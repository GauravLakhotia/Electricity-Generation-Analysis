{
 "cells": [
  {
   "cell_type": "markdown",
   "metadata": {},
   "source": [
    "# Electricity Generation Analysis"
   ]
  },
  {
   "cell_type": "code",
   "execution_count": 1,
   "metadata": {},
   "outputs": [],
   "source": [
    "import pandas"
   ]
  },
  {
   "cell_type": "code",
   "execution_count": 2,
   "metadata": {},
   "outputs": [],
   "source": [
    "import matplotlib.pyplot as plt"
   ]
  },
  {
   "cell_type": "code",
   "execution_count": 3,
   "metadata": {},
   "outputs": [],
   "source": [
    "import seaborn as sns\n",
    "sns.set(rc={'figure.figsize':(12,8)})"
   ]
  },
  {
   "cell_type": "markdown",
   "metadata": {},
   "source": [
    "## Loading Dataset"
   ]
  },
  {
   "cell_type": "code",
   "execution_count": 4,
   "metadata": {},
   "outputs": [],
   "source": [
    "df=pandas.read_excel('GauravData.xlsx')"
   ]
  },
  {
   "cell_type": "code",
   "execution_count": 5,
   "metadata": {},
   "outputs": [],
   "source": [
    "dt=pandas.read_excel('RegionData.xlsx')"
   ]
  },
  {
   "cell_type": "code",
   "execution_count": 6,
   "metadata": {},
   "outputs": [],
   "source": [
    "dd=pandas.read_excel('TargetAch.xlsx')"
   ]
  },
  {
   "cell_type": "markdown",
   "metadata": {},
   "source": [
    "#### Dataset Source: Central Electricity Authority(C.E.A.),India."
   ]
  },
  {
   "cell_type": "markdown",
   "metadata": {},
   "source": [
    "## Describing Dataset"
   ]
  },
  {
   "cell_type": "markdown",
   "metadata": {},
   "source": [
    "### 1. GauravData.xlsx"
   ]
  },
  {
   "cell_type": "code",
   "execution_count": 7,
   "metadata": {},
   "outputs": [
    {
     "data": {
      "text/plain": [
       "pandas.core.frame.DataFrame"
      ]
     },
     "execution_count": 7,
     "metadata": {},
     "output_type": "execute_result"
    }
   ],
   "source": [
    "type(df)   "
   ]
  },
  {
   "cell_type": "code",
   "execution_count": 8,
   "metadata": {},
   "outputs": [
    {
     "data": {
      "text/plain": [
       "State                 object\n",
       "Ownership/ Sector     object\n",
       "Thermal              float64\n",
       "Nuclear              float64\n",
       "Hydro                float64\n",
       "RES * (MNRE)         float64\n",
       "Grand Total          float64\n",
       "dtype: object"
      ]
     },
     "execution_count": 8,
     "metadata": {},
     "output_type": "execute_result"
    }
   ],
   "source": [
    "df.dtypes"
   ]
  },
  {
   "cell_type": "code",
   "execution_count": 9,
   "metadata": {},
   "outputs": [
    {
     "data": {
      "text/plain": [
       "(114, 7)"
      ]
     },
     "execution_count": 9,
     "metadata": {},
     "output_type": "execute_result"
    }
   ],
   "source": [
    "df.shape  "
   ]
  },
  {
   "cell_type": "code",
   "execution_count": 10,
   "metadata": {},
   "outputs": [
    {
     "name": "stdout",
     "output_type": "stream",
     "text": [
      "<class 'pandas.core.frame.DataFrame'>\n",
      "RangeIndex: 114 entries, 0 to 113\n",
      "Data columns (total 7 columns):\n",
      "State                114 non-null object\n",
      "Ownership/ Sector    114 non-null object\n",
      "Thermal              114 non-null float64\n",
      "Nuclear              114 non-null float64\n",
      "Hydro                114 non-null float64\n",
      "RES * (MNRE)         114 non-null float64\n",
      "Grand Total          114 non-null float64\n",
      "dtypes: float64(5), object(2)\n",
      "memory usage: 6.3+ KB\n"
     ]
    }
   ],
   "source": [
    "df.info()"
   ]
  },
  {
   "cell_type": "markdown",
   "metadata": {},
   "source": [
    "### 2.RegionData.xlsx"
   ]
  },
  {
   "cell_type": "code",
   "execution_count": 11,
   "metadata": {},
   "outputs": [
    {
     "data": {
      "text/plain": [
       "pandas.core.frame.DataFrame"
      ]
     },
     "execution_count": 11,
     "metadata": {},
     "output_type": "execute_result"
    }
   ],
   "source": [
    "type(dt)"
   ]
  },
  {
   "cell_type": "code",
   "execution_count": 12,
   "metadata": {},
   "outputs": [
    {
     "data": {
      "text/plain": [
       "Region                object\n",
       "Ownership/ Sector     object\n",
       "Thermal              float64\n",
       "Nuclear              float64\n",
       "Hydro                float64\n",
       "RES * (MNRE)         float64\n",
       "Grand Total          float64\n",
       "dtype: object"
      ]
     },
     "execution_count": 12,
     "metadata": {},
     "output_type": "execute_result"
    }
   ],
   "source": [
    "dt.dtypes"
   ]
  },
  {
   "cell_type": "code",
   "execution_count": 13,
   "metadata": {},
   "outputs": [
    {
     "data": {
      "text/plain": [
       "(22, 7)"
      ]
     },
     "execution_count": 13,
     "metadata": {},
     "output_type": "execute_result"
    }
   ],
   "source": [
    "dt.shape "
   ]
  },
  {
   "cell_type": "code",
   "execution_count": 14,
   "metadata": {},
   "outputs": [
    {
     "name": "stdout",
     "output_type": "stream",
     "text": [
      "<class 'pandas.core.frame.DataFrame'>\n",
      "RangeIndex: 22 entries, 0 to 21\n",
      "Data columns (total 7 columns):\n",
      "Region               21 non-null object\n",
      "Ownership/ Sector    21 non-null object\n",
      "Thermal              21 non-null float64\n",
      "Nuclear              21 non-null float64\n",
      "Hydro                21 non-null float64\n",
      "RES * (MNRE)         21 non-null float64\n",
      "Grand Total          21 non-null float64\n",
      "dtypes: float64(5), object(2)\n",
      "memory usage: 1.3+ KB\n"
     ]
    }
   ],
   "source": [
    "dt.info()"
   ]
  },
  {
   "cell_type": "markdown",
   "metadata": {},
   "source": [
    "### 3.TargetAch.xlsx"
   ]
  },
  {
   "cell_type": "code",
   "execution_count": 15,
   "metadata": {},
   "outputs": [
    {
     "data": {
      "text/plain": [
       "pandas.core.frame.DataFrame"
      ]
     },
     "execution_count": 15,
     "metadata": {},
     "output_type": "execute_result"
    }
   ],
   "source": [
    "type(dd)"
   ]
  },
  {
   "cell_type": "code",
   "execution_count": 16,
   "metadata": {},
   "outputs": [
    {
     "data": {
      "text/plain": [
       "Schemes               object\n",
       "Sector                object\n",
       "Target 15-16         float64\n",
       "Achievement 15-16    float64\n",
       "Target 16-17         float64\n",
       "Achievement 16-17    float64\n",
       "Target 17-18           int64\n",
       "Achievement 17-18      int64\n",
       "dtype: object"
      ]
     },
     "execution_count": 16,
     "metadata": {},
     "output_type": "execute_result"
    }
   ],
   "source": [
    "dd.dtypes"
   ]
  },
  {
   "cell_type": "code",
   "execution_count": 17,
   "metadata": {},
   "outputs": [
    {
     "data": {
      "text/plain": [
       "(10, 8)"
      ]
     },
     "execution_count": 17,
     "metadata": {},
     "output_type": "execute_result"
    }
   ],
   "source": [
    "dd.shape"
   ]
  },
  {
   "cell_type": "code",
   "execution_count": 18,
   "metadata": {},
   "outputs": [
    {
     "name": "stdout",
     "output_type": "stream",
     "text": [
      "<class 'pandas.core.frame.DataFrame'>\n",
      "RangeIndex: 10 entries, 0 to 9\n",
      "Data columns (total 8 columns):\n",
      "Schemes              10 non-null object\n",
      "Sector               10 non-null object\n",
      "Target 15-16         10 non-null float64\n",
      "Achievement 15-16    10 non-null float64\n",
      "Target 16-17         10 non-null float64\n",
      "Achievement 16-17    10 non-null float64\n",
      "Target 17-18         10 non-null int64\n",
      "Achievement 17-18    10 non-null int64\n",
      "dtypes: float64(4), int64(2), object(2)\n",
      "memory usage: 720.0+ bytes\n"
     ]
    }
   ],
   "source": [
    "dd.info()"
   ]
  },
  {
   "cell_type": "markdown",
   "metadata": {},
   "source": [
    "## Description of Dataset"
   ]
  },
  {
   "cell_type": "markdown",
   "metadata": {},
   "source": [
    "#### State Name-\n",
    "*DVC- Damodar Valley Corporation(A Governmental Organization which operates several power station in Damodar River Area of West Bangal and Jharkhand states of India.) \n",
    "\n",
    "\n",
    "*NLC- Neyveli Lignite Corporation Ltd.(A Government-Owned Organization in Energy Sector.)"
   ]
  },
  {
   "cell_type": "markdown",
   "metadata": {},
   "source": [
    "## Exploratory Analysis"
   ]
  },
  {
   "cell_type": "code",
   "execution_count": 19,
   "metadata": {},
   "outputs": [
    {
     "data": {
      "text/html": [
       "<div>\n",
       "<style scoped>\n",
       "    .dataframe tbody tr th:only-of-type {\n",
       "        vertical-align: middle;\n",
       "    }\n",
       "\n",
       "    .dataframe tbody tr th {\n",
       "        vertical-align: top;\n",
       "    }\n",
       "\n",
       "    .dataframe thead th {\n",
       "        text-align: right;\n",
       "    }\n",
       "</style>\n",
       "<table border=\"1\" class=\"dataframe\">\n",
       "  <thead>\n",
       "    <tr style=\"text-align: right;\">\n",
       "      <th></th>\n",
       "      <th>State</th>\n",
       "      <th>Ownership/ Sector</th>\n",
       "      <th>Thermal</th>\n",
       "      <th>Nuclear</th>\n",
       "      <th>Hydro</th>\n",
       "      <th>RES * (MNRE)</th>\n",
       "      <th>Grand Total</th>\n",
       "    </tr>\n",
       "  </thead>\n",
       "  <tbody>\n",
       "    <tr>\n",
       "      <th>0</th>\n",
       "      <td>Delhi</td>\n",
       "      <td>State</td>\n",
       "      <td>1935.40</td>\n",
       "      <td>0.00</td>\n",
       "      <td>0.00</td>\n",
       "      <td>0.00</td>\n",
       "      <td>1935.40</td>\n",
       "    </tr>\n",
       "    <tr>\n",
       "      <th>1</th>\n",
       "      <td>Delhi</td>\n",
       "      <td>Private</td>\n",
       "      <td>977.22</td>\n",
       "      <td>0.00</td>\n",
       "      <td>0.00</td>\n",
       "      <td>121.57</td>\n",
       "      <td>1098.79</td>\n",
       "    </tr>\n",
       "    <tr>\n",
       "      <th>2</th>\n",
       "      <td>Delhi</td>\n",
       "      <td>Central</td>\n",
       "      <td>4024.73</td>\n",
       "      <td>102.83</td>\n",
       "      <td>723.09</td>\n",
       "      <td>0.00</td>\n",
       "      <td>4850.65</td>\n",
       "    </tr>\n",
       "    <tr>\n",
       "      <th>3</th>\n",
       "      <td>Haryana</td>\n",
       "      <td>State</td>\n",
       "      <td>2870.00</td>\n",
       "      <td>0.00</td>\n",
       "      <td>1084.51</td>\n",
       "      <td>59.30</td>\n",
       "      <td>4013.81</td>\n",
       "    </tr>\n",
       "    <tr>\n",
       "      <th>4</th>\n",
       "      <td>Haryana</td>\n",
       "      <td>Private</td>\n",
       "      <td>4080.78</td>\n",
       "      <td>0.00</td>\n",
       "      <td>200.00</td>\n",
       "      <td>347.45</td>\n",
       "      <td>4628.23</td>\n",
       "    </tr>\n",
       "  </tbody>\n",
       "</table>\n",
       "</div>"
      ],
      "text/plain": [
       "     State Ownership/ Sector  Thermal  Nuclear    Hydro  RES * (MNRE)  \\\n",
       "0    Delhi             State  1935.40     0.00     0.00          0.00   \n",
       "1    Delhi           Private   977.22     0.00     0.00        121.57   \n",
       "2    Delhi           Central  4024.73   102.83   723.09          0.00   \n",
       "3  Haryana             State  2870.00     0.00  1084.51         59.30   \n",
       "4  Haryana           Private  4080.78     0.00   200.00        347.45   \n",
       "\n",
       "   Grand Total  \n",
       "0      1935.40  \n",
       "1      1098.79  \n",
       "2      4850.65  \n",
       "3      4013.81  \n",
       "4      4628.23  "
      ]
     },
     "execution_count": 19,
     "metadata": {},
     "output_type": "execute_result"
    }
   ],
   "source": [
    "df.head()"
   ]
  },
  {
   "cell_type": "code",
   "execution_count": 20,
   "metadata": {},
   "outputs": [
    {
     "data": {
      "text/html": [
       "<div>\n",
       "<style scoped>\n",
       "    .dataframe tbody tr th:only-of-type {\n",
       "        vertical-align: middle;\n",
       "    }\n",
       "\n",
       "    .dataframe tbody tr th {\n",
       "        vertical-align: top;\n",
       "    }\n",
       "\n",
       "    .dataframe thead th {\n",
       "        text-align: right;\n",
       "    }\n",
       "</style>\n",
       "<table border=\"1\" class=\"dataframe\">\n",
       "  <thead>\n",
       "    <tr style=\"text-align: right;\">\n",
       "      <th></th>\n",
       "      <th>State</th>\n",
       "      <th>Ownership/ Sector</th>\n",
       "      <th>Thermal</th>\n",
       "      <th>Nuclear</th>\n",
       "      <th>Hydro</th>\n",
       "      <th>RES * (MNRE)</th>\n",
       "      <th>Grand Total</th>\n",
       "    </tr>\n",
       "  </thead>\n",
       "  <tbody>\n",
       "    <tr>\n",
       "      <th>109</th>\n",
       "      <td>Andaman  &amp; Nicobar</td>\n",
       "      <td>Private</td>\n",
       "      <td>0.0</td>\n",
       "      <td>0.0</td>\n",
       "      <td>0.0</td>\n",
       "      <td>1.46</td>\n",
       "      <td>1.46</td>\n",
       "    </tr>\n",
       "    <tr>\n",
       "      <th>110</th>\n",
       "      <td>Andaman  &amp; Nicobar</td>\n",
       "      <td>Central</td>\n",
       "      <td>0.0</td>\n",
       "      <td>0.0</td>\n",
       "      <td>0.0</td>\n",
       "      <td>5.10</td>\n",
       "      <td>5.10</td>\n",
       "    </tr>\n",
       "    <tr>\n",
       "      <th>111</th>\n",
       "      <td>lakshadweep</td>\n",
       "      <td>State</td>\n",
       "      <td>0.0</td>\n",
       "      <td>0.0</td>\n",
       "      <td>0.0</td>\n",
       "      <td>0.00</td>\n",
       "      <td>0.00</td>\n",
       "    </tr>\n",
       "    <tr>\n",
       "      <th>112</th>\n",
       "      <td>lakshadweep</td>\n",
       "      <td>Private</td>\n",
       "      <td>0.0</td>\n",
       "      <td>0.0</td>\n",
       "      <td>0.0</td>\n",
       "      <td>0.75</td>\n",
       "      <td>0.75</td>\n",
       "    </tr>\n",
       "    <tr>\n",
       "      <th>113</th>\n",
       "      <td>lakshadweep</td>\n",
       "      <td>Central</td>\n",
       "      <td>0.0</td>\n",
       "      <td>0.0</td>\n",
       "      <td>0.0</td>\n",
       "      <td>0.00</td>\n",
       "      <td>0.00</td>\n",
       "    </tr>\n",
       "  </tbody>\n",
       "</table>\n",
       "</div>"
      ],
      "text/plain": [
       "                  State Ownership/ Sector  Thermal  Nuclear  Hydro  \\\n",
       "109  Andaman  & Nicobar           Private      0.0      0.0    0.0   \n",
       "110  Andaman  & Nicobar           Central      0.0      0.0    0.0   \n",
       "111         lakshadweep             State      0.0      0.0    0.0   \n",
       "112         lakshadweep           Private      0.0      0.0    0.0   \n",
       "113         lakshadweep           Central      0.0      0.0    0.0   \n",
       "\n",
       "     RES * (MNRE)  Grand Total  \n",
       "109          1.46         1.46  \n",
       "110          5.10         5.10  \n",
       "111          0.00         0.00  \n",
       "112          0.75         0.75  \n",
       "113          0.00         0.00  "
      ]
     },
     "execution_count": 20,
     "metadata": {},
     "output_type": "execute_result"
    }
   ],
   "source": [
    "df.tail()"
   ]
  },
  {
   "cell_type": "code",
   "execution_count": 21,
   "metadata": {},
   "outputs": [
    {
     "data": {
      "text/html": [
       "<div>\n",
       "<style scoped>\n",
       "    .dataframe tbody tr th:only-of-type {\n",
       "        vertical-align: middle;\n",
       "    }\n",
       "\n",
       "    .dataframe tbody tr th {\n",
       "        vertical-align: top;\n",
       "    }\n",
       "\n",
       "    .dataframe thead th {\n",
       "        text-align: right;\n",
       "    }\n",
       "</style>\n",
       "<table border=\"1\" class=\"dataframe\">\n",
       "  <thead>\n",
       "    <tr style=\"text-align: right;\">\n",
       "      <th></th>\n",
       "      <th>State</th>\n",
       "      <th>Ownership/ Sector</th>\n",
       "      <th>Thermal</th>\n",
       "      <th>Nuclear</th>\n",
       "      <th>Hydro</th>\n",
       "      <th>RES * (MNRE)</th>\n",
       "      <th>Grand Total</th>\n",
       "    </tr>\n",
       "  </thead>\n",
       "  <tbody>\n",
       "    <tr>\n",
       "      <th>80</th>\n",
       "      <td>DVC</td>\n",
       "      <td>Central</td>\n",
       "      <td>6985.04</td>\n",
       "      <td>0.0</td>\n",
       "      <td>186.20</td>\n",
       "      <td>0.00</td>\n",
       "      <td>7171.24</td>\n",
       "    </tr>\n",
       "    <tr>\n",
       "      <th>81</th>\n",
       "      <td>Odisha</td>\n",
       "      <td>State</td>\n",
       "      <td>420.00</td>\n",
       "      <td>0.0</td>\n",
       "      <td>2061.92</td>\n",
       "      <td>6.30</td>\n",
       "      <td>2488.22</td>\n",
       "    </tr>\n",
       "    <tr>\n",
       "      <th>82</th>\n",
       "      <td>Odisha</td>\n",
       "      <td>Private</td>\n",
       "      <td>2939.00</td>\n",
       "      <td>0.0</td>\n",
       "      <td>0.00</td>\n",
       "      <td>208.98</td>\n",
       "      <td>3147.98</td>\n",
       "    </tr>\n",
       "    <tr>\n",
       "      <th>83</th>\n",
       "      <td>Odisha</td>\n",
       "      <td>Central</td>\n",
       "      <td>1633.90</td>\n",
       "      <td>0.0</td>\n",
       "      <td>89.00</td>\n",
       "      <td>10.00</td>\n",
       "      <td>1732.90</td>\n",
       "    </tr>\n",
       "    <tr>\n",
       "      <th>84</th>\n",
       "      <td>Sikkim</td>\n",
       "      <td>State</td>\n",
       "      <td>0.00</td>\n",
       "      <td>0.0</td>\n",
       "      <td>360.00</td>\n",
       "      <td>52.11</td>\n",
       "      <td>412.11</td>\n",
       "    </tr>\n",
       "    <tr>\n",
       "      <th>85</th>\n",
       "      <td>Sikkim</td>\n",
       "      <td>Private</td>\n",
       "      <td>0.00</td>\n",
       "      <td>0.0</td>\n",
       "      <td>399.00</td>\n",
       "      <td>0.01</td>\n",
       "      <td>399.01</td>\n",
       "    </tr>\n",
       "    <tr>\n",
       "      <th>86</th>\n",
       "      <td>Sikkim</td>\n",
       "      <td>Central</td>\n",
       "      <td>87.03</td>\n",
       "      <td>0.0</td>\n",
       "      <td>64.00</td>\n",
       "      <td>0.00</td>\n",
       "      <td>151.03</td>\n",
       "    </tr>\n",
       "    <tr>\n",
       "      <th>87</th>\n",
       "      <td>Assam</td>\n",
       "      <td>State</td>\n",
       "      <td>258.45</td>\n",
       "      <td>0.0</td>\n",
       "      <td>100.00</td>\n",
       "      <td>30.01</td>\n",
       "      <td>388.46</td>\n",
       "    </tr>\n",
       "    <tr>\n",
       "      <th>88</th>\n",
       "      <td>Assam</td>\n",
       "      <td>Private</td>\n",
       "      <td>24.50</td>\n",
       "      <td>0.0</td>\n",
       "      <td>0.00</td>\n",
       "      <td>16.80</td>\n",
       "      <td>41.30</td>\n",
       "    </tr>\n",
       "    <tr>\n",
       "      <th>89</th>\n",
       "      <td>Assam</td>\n",
       "      <td>Central</td>\n",
       "      <td>714.58</td>\n",
       "      <td>0.0</td>\n",
       "      <td>368.51</td>\n",
       "      <td>0.00</td>\n",
       "      <td>1083.09</td>\n",
       "    </tr>\n",
       "  </tbody>\n",
       "</table>\n",
       "</div>"
      ],
      "text/plain": [
       "     State Ownership/ Sector  Thermal  Nuclear    Hydro  RES * (MNRE)  \\\n",
       "80     DVC           Central  6985.04      0.0   186.20          0.00   \n",
       "81  Odisha             State   420.00      0.0  2061.92          6.30   \n",
       "82  Odisha           Private  2939.00      0.0     0.00        208.98   \n",
       "83  Odisha           Central  1633.90      0.0    89.00         10.00   \n",
       "84  Sikkim             State     0.00      0.0   360.00         52.11   \n",
       "85  Sikkim           Private     0.00      0.0   399.00          0.01   \n",
       "86  Sikkim           Central    87.03      0.0    64.00          0.00   \n",
       "87   Assam             State   258.45      0.0   100.00         30.01   \n",
       "88   Assam           Private    24.50      0.0     0.00         16.80   \n",
       "89   Assam           Central   714.58      0.0   368.51          0.00   \n",
       "\n",
       "    Grand Total  \n",
       "80      7171.24  \n",
       "81      2488.22  \n",
       "82      3147.98  \n",
       "83      1732.90  \n",
       "84       412.11  \n",
       "85       399.01  \n",
       "86       151.03  \n",
       "87       388.46  \n",
       "88        41.30  \n",
       "89      1083.09  "
      ]
     },
     "execution_count": 21,
     "metadata": {},
     "output_type": "execute_result"
    }
   ],
   "source": [
    "df[80:90]"
   ]
  },
  {
   "cell_type": "code",
   "execution_count": 22,
   "metadata": {},
   "outputs": [
    {
     "data": {
      "text/plain": [
       "Index(['State', 'Ownership/ Sector', 'Thermal', 'Nuclear', 'Hydro',\n",
       "       'RES * (MNRE)', 'Grand Total'],\n",
       "      dtype='object')"
      ]
     },
     "execution_count": 22,
     "metadata": {},
     "output_type": "execute_result"
    }
   ],
   "source": [
    "df.columns"
   ]
  },
  {
   "cell_type": "code",
   "execution_count": 23,
   "metadata": {},
   "outputs": [
    {
     "data": {
      "text/plain": [
       "State      38\n",
       "Central    38\n",
       "Private    38\n",
       "Name: Ownership/ Sector, dtype: int64"
      ]
     },
     "execution_count": 23,
     "metadata": {},
     "output_type": "execute_result"
    }
   ],
   "source": [
    "df['Ownership/ Sector'].value_counts()"
   ]
  },
  {
   "cell_type": "code",
   "execution_count": 24,
   "metadata": {},
   "outputs": [],
   "source": [
    "df.columns=['State', 'Sector', 'Thermal', 'Nuclear', 'Hydro',\n",
    "       'RES * (MNRE)', 'Grand Total']  #Column's Name is changed(Ownership/ Sector to Sector)"
   ]
  },
  {
   "cell_type": "code",
   "execution_count": 25,
   "metadata": {},
   "outputs": [
    {
     "data": {
      "text/plain": [
       "Index(['State', 'Sector', 'Thermal', 'Nuclear', 'Hydro', 'RES * (MNRE)',\n",
       "       'Grand Total'],\n",
       "      dtype='object')"
      ]
     },
     "execution_count": 25,
     "metadata": {},
     "output_type": "execute_result"
    }
   ],
   "source": [
    "df.columns"
   ]
  },
  {
   "cell_type": "markdown",
   "metadata": {},
   "source": [
    "## Correlation"
   ]
  },
  {
   "cell_type": "code",
   "execution_count": 26,
   "metadata": {},
   "outputs": [],
   "source": [
    "corr=df[['State','Thermal','Nuclear','Hydro']].corr()"
   ]
  },
  {
   "cell_type": "code",
   "execution_count": 27,
   "metadata": {},
   "outputs": [
    {
     "data": {
      "text/html": [
       "<div>\n",
       "<style scoped>\n",
       "    .dataframe tbody tr th:only-of-type {\n",
       "        vertical-align: middle;\n",
       "    }\n",
       "\n",
       "    .dataframe tbody tr th {\n",
       "        vertical-align: top;\n",
       "    }\n",
       "\n",
       "    .dataframe thead th {\n",
       "        text-align: right;\n",
       "    }\n",
       "</style>\n",
       "<table border=\"1\" class=\"dataframe\">\n",
       "  <thead>\n",
       "    <tr style=\"text-align: right;\">\n",
       "      <th></th>\n",
       "      <th>Thermal</th>\n",
       "      <th>Nuclear</th>\n",
       "      <th>Hydro</th>\n",
       "    </tr>\n",
       "  </thead>\n",
       "  <tbody>\n",
       "    <tr>\n",
       "      <th>Thermal</th>\n",
       "      <td>1.000000</td>\n",
       "      <td>0.153656</td>\n",
       "      <td>0.345227</td>\n",
       "    </tr>\n",
       "    <tr>\n",
       "      <th>Nuclear</th>\n",
       "      <td>0.153656</td>\n",
       "      <td>1.000000</td>\n",
       "      <td>-0.033094</td>\n",
       "    </tr>\n",
       "    <tr>\n",
       "      <th>Hydro</th>\n",
       "      <td>0.345227</td>\n",
       "      <td>-0.033094</td>\n",
       "      <td>1.000000</td>\n",
       "    </tr>\n",
       "  </tbody>\n",
       "</table>\n",
       "</div>"
      ],
      "text/plain": [
       "          Thermal   Nuclear     Hydro\n",
       "Thermal  1.000000  0.153656  0.345227\n",
       "Nuclear  0.153656  1.000000 -0.033094\n",
       "Hydro    0.345227 -0.033094  1.000000"
      ]
     },
     "execution_count": 27,
     "metadata": {},
     "output_type": "execute_result"
    }
   ],
   "source": [
    "corr"
   ]
  },
  {
   "cell_type": "code",
   "execution_count": 28,
   "metadata": {},
   "outputs": [
    {
     "data": {
      "text/plain": [
       "<matplotlib.axes._subplots.AxesSubplot at 0x16cfa73b4e0>"
      ]
     },
     "execution_count": 28,
     "metadata": {},
     "output_type": "execute_result"
    },
    {
     "data": {
      "image/png": "[encoded data removed]",
      "text/plain": [
       "<Figure size 864x576 with 2 Axes>"
      ]
     },
     "metadata": {},
     "output_type": "display_data"
    }
   ],
   "source": [
    "sns.heatmap(corr)"
   ]
  },
  {
   "cell_type": "markdown",
   "metadata": {},
   "source": [
    "##### There is no such correlation."
   ]
  },
  {
   "cell_type": "markdown",
   "metadata": {},
   "source": [
    "## Ownership-Wise Analysis(Central/State/Public)"
   ]
  },
  {
   "cell_type": "code",
   "execution_count": 29,
   "metadata": {},
   "outputs": [
    {
     "data": {
      "text/plain": [
       "<matplotlib.axes._subplots.AxesSubplot at 0x16cfa87dcf8>"
      ]
     },
     "execution_count": 29,
     "metadata": {},
     "output_type": "execute_result"
    },
    {
     "data": {
      "image/png": "[encoded data removed]",
      "text/plain": [
       "<Figure size 864x576 with 1 Axes>"
      ]
     },
     "metadata": {},
     "output_type": "display_data"
    }
   ],
   "source": [
    "df.groupby('Sector').sum().plot(kind='bar')"
   ]
  },
  {
   "cell_type": "markdown",
   "metadata": {},
   "source": [
    "### Central Government Ownership Production"
   ]
  },
  {
   "cell_type": "code",
   "execution_count": 30,
   "metadata": {},
   "outputs": [],
   "source": [
    "sector=df[df.Sector=='Central'][['State','Thermal','Nuclear','Hydro','RES * (MNRE)','Grand Total']]"
   ]
  },
  {
   "cell_type": "code",
   "execution_count": 31,
   "metadata": {},
   "outputs": [
    {
     "data": {
      "text/html": [
       "<div>\n",
       "<style scoped>\n",
       "    .dataframe tbody tr th:only-of-type {\n",
       "        vertical-align: middle;\n",
       "    }\n",
       "\n",
       "    .dataframe tbody tr th {\n",
       "        vertical-align: top;\n",
       "    }\n",
       "\n",
       "    .dataframe thead th {\n",
       "        text-align: right;\n",
       "    }\n",
       "</style>\n",
       "<table border=\"1\" class=\"dataframe\">\n",
       "  <thead>\n",
       "    <tr style=\"text-align: right;\">\n",
       "      <th></th>\n",
       "      <th>State</th>\n",
       "      <th>Thermal</th>\n",
       "      <th>Nuclear</th>\n",
       "      <th>Hydro</th>\n",
       "      <th>RES * (MNRE)</th>\n",
       "      <th>Grand Total</th>\n",
       "    </tr>\n",
       "  </thead>\n",
       "  <tbody>\n",
       "    <tr>\n",
       "      <th>2</th>\n",
       "      <td>Delhi</td>\n",
       "      <td>4024.73</td>\n",
       "      <td>102.83</td>\n",
       "      <td>723.09000</td>\n",
       "      <td>0.0</td>\n",
       "      <td>4850.65</td>\n",
       "    </tr>\n",
       "    <tr>\n",
       "      <th>5</th>\n",
       "      <td>Haryana</td>\n",
       "      <td>1830.34</td>\n",
       "      <td>100.94</td>\n",
       "      <td>663.70181</td>\n",
       "      <td>5.0</td>\n",
       "      <td>2599.98</td>\n",
       "    </tr>\n",
       "    <tr>\n",
       "      <th>8</th>\n",
       "      <td>Himachal Pradesh</td>\n",
       "      <td>245.41</td>\n",
       "      <td>28.95</td>\n",
       "      <td>1223.88000</td>\n",
       "      <td>0.0</td>\n",
       "      <td>1498.24</td>\n",
       "    </tr>\n",
       "    <tr>\n",
       "      <th>11</th>\n",
       "      <td>Jammu &amp; Kashmir</td>\n",
       "      <td>635.47</td>\n",
       "      <td>67.98</td>\n",
       "      <td>1091.88000</td>\n",
       "      <td>0.0</td>\n",
       "      <td>1795.33</td>\n",
       "    </tr>\n",
       "    <tr>\n",
       "      <th>14</th>\n",
       "      <td>Punjab</td>\n",
       "      <td>1118.59</td>\n",
       "      <td>196.81</td>\n",
       "      <td>923.42000</td>\n",
       "      <td>0.0</td>\n",
       "      <td>2238.82</td>\n",
       "    </tr>\n",
       "    <tr>\n",
       "      <th>17</th>\n",
       "      <td>Rajasthan</td>\n",
       "      <td>1427.35</td>\n",
       "      <td>556.74</td>\n",
       "      <td>739.01000</td>\n",
       "      <td>294.0</td>\n",
       "      <td>3017.10</td>\n",
       "    </tr>\n",
       "    <tr>\n",
       "      <th>20</th>\n",
       "      <td>Uttar Pradesh</td>\n",
       "      <td>4345.88</td>\n",
       "      <td>289.48</td>\n",
       "      <td>1802.53000</td>\n",
       "      <td>30.0</td>\n",
       "      <td>6467.89</td>\n",
       "    </tr>\n",
       "    <tr>\n",
       "      <th>23</th>\n",
       "      <td>Uttarakhand</td>\n",
       "      <td>412.90</td>\n",
       "      <td>31.24</td>\n",
       "      <td>475.54000</td>\n",
       "      <td>0.0</td>\n",
       "      <td>919.68</td>\n",
       "    </tr>\n",
       "    <tr>\n",
       "      <th>26</th>\n",
       "      <td>Chandigarh</td>\n",
       "      <td>53.17</td>\n",
       "      <td>8.01</td>\n",
       "      <td>101.71000</td>\n",
       "      <td>0.0</td>\n",
       "      <td>162.89</td>\n",
       "    </tr>\n",
       "    <tr>\n",
       "      <th>29</th>\n",
       "      <td>Goa</td>\n",
       "      <td>474.45</td>\n",
       "      <td>26.00</td>\n",
       "      <td>0.00000</td>\n",
       "      <td>0.0</td>\n",
       "      <td>500.45</td>\n",
       "    </tr>\n",
       "    <tr>\n",
       "      <th>32</th>\n",
       "      <td>Daman &amp; Diu</td>\n",
       "      <td>169.97</td>\n",
       "      <td>7.00</td>\n",
       "      <td>0.00000</td>\n",
       "      <td>0.0</td>\n",
       "      <td>176.97</td>\n",
       "    </tr>\n",
       "    <tr>\n",
       "      <th>35</th>\n",
       "      <td>Gujarat</td>\n",
       "      <td>3514.51</td>\n",
       "      <td>559.00</td>\n",
       "      <td>0.00000</td>\n",
       "      <td>238.3</td>\n",
       "      <td>4311.81</td>\n",
       "    </tr>\n",
       "    <tr>\n",
       "      <th>38</th>\n",
       "      <td>Madhya Pradesh</td>\n",
       "      <td>3051.41</td>\n",
       "      <td>273.00</td>\n",
       "      <td>1520.00000</td>\n",
       "      <td>300.0</td>\n",
       "      <td>5144.41</td>\n",
       "    </tr>\n",
       "    <tr>\n",
       "      <th>41</th>\n",
       "      <td>Chhattisgarh</td>\n",
       "      <td>1953.44</td>\n",
       "      <td>48.00</td>\n",
       "      <td>100.00000</td>\n",
       "      <td>0.0</td>\n",
       "      <td>2101.44</td>\n",
       "    </tr>\n",
       "    <tr>\n",
       "      <th>44</th>\n",
       "      <td>Maharashtra</td>\n",
       "      <td>6607.48</td>\n",
       "      <td>690.00</td>\n",
       "      <td>0.00000</td>\n",
       "      <td>123.0</td>\n",
       "      <td>7420.48</td>\n",
       "    </tr>\n",
       "    <tr>\n",
       "      <th>47</th>\n",
       "      <td>Dadra &amp; Nagar Naveli</td>\n",
       "      <td>240.78</td>\n",
       "      <td>9.00</td>\n",
       "      <td>0.00000</td>\n",
       "      <td>0.0</td>\n",
       "      <td>249.78</td>\n",
       "    </tr>\n",
       "    <tr>\n",
       "      <th>50</th>\n",
       "      <td>Andhra Pradesh</td>\n",
       "      <td>1674.56</td>\n",
       "      <td>127.27</td>\n",
       "      <td>0.00000</td>\n",
       "      <td>250.0</td>\n",
       "      <td>2051.83</td>\n",
       "    </tr>\n",
       "    <tr>\n",
       "      <th>53</th>\n",
       "      <td>Telangana</td>\n",
       "      <td>1956.12</td>\n",
       "      <td>148.73</td>\n",
       "      <td>0.00000</td>\n",
       "      <td>10.0</td>\n",
       "      <td>2114.85</td>\n",
       "    </tr>\n",
       "    <tr>\n",
       "      <th>56</th>\n",
       "      <td>Karnataka</td>\n",
       "      <td>2829.20</td>\n",
       "      <td>698.00</td>\n",
       "      <td>0.00000</td>\n",
       "      <td>0.0</td>\n",
       "      <td>3527.20</td>\n",
       "    </tr>\n",
       "    <tr>\n",
       "      <th>59</th>\n",
       "      <td>Kerala</td>\n",
       "      <td>1502.80</td>\n",
       "      <td>362.00</td>\n",
       "      <td>0.00000</td>\n",
       "      <td>50.0</td>\n",
       "      <td>1914.80</td>\n",
       "    </tr>\n",
       "    <tr>\n",
       "      <th>62</th>\n",
       "      <td>Tamil Nadu</td>\n",
       "      <td>4489.52</td>\n",
       "      <td>1448.00</td>\n",
       "      <td>0.00000</td>\n",
       "      <td>181.9</td>\n",
       "      <td>6119.42</td>\n",
       "    </tr>\n",
       "    <tr>\n",
       "      <th>65</th>\n",
       "      <td>NLC</td>\n",
       "      <td>100.00</td>\n",
       "      <td>0.00</td>\n",
       "      <td>0.00000</td>\n",
       "      <td>0.0</td>\n",
       "      <td>100.00</td>\n",
       "    </tr>\n",
       "    <tr>\n",
       "      <th>68</th>\n",
       "      <td>Puducherry</td>\n",
       "      <td>248.40</td>\n",
       "      <td>86.00</td>\n",
       "      <td>0.00000</td>\n",
       "      <td>0.0</td>\n",
       "      <td>334.40</td>\n",
       "    </tr>\n",
       "    <tr>\n",
       "      <th>71</th>\n",
       "      <td>Bihar</td>\n",
       "      <td>2914.33</td>\n",
       "      <td>0.00</td>\n",
       "      <td>110.00000</td>\n",
       "      <td>0.0</td>\n",
       "      <td>3024.32</td>\n",
       "    </tr>\n",
       "    <tr>\n",
       "      <th>74</th>\n",
       "      <td>Jharkhand</td>\n",
       "      <td>393.74</td>\n",
       "      <td>0.00</td>\n",
       "      <td>61.00000</td>\n",
       "      <td>0.0</td>\n",
       "      <td>454.74</td>\n",
       "    </tr>\n",
       "    <tr>\n",
       "      <th>77</th>\n",
       "      <td>West Bengal</td>\n",
       "      <td>760.77</td>\n",
       "      <td>0.00</td>\n",
       "      <td>410.00000</td>\n",
       "      <td>0.0</td>\n",
       "      <td>1170.77</td>\n",
       "    </tr>\n",
       "    <tr>\n",
       "      <th>80</th>\n",
       "      <td>DVC</td>\n",
       "      <td>6985.04</td>\n",
       "      <td>0.00</td>\n",
       "      <td>186.20000</td>\n",
       "      <td>0.0</td>\n",
       "      <td>7171.24</td>\n",
       "    </tr>\n",
       "    <tr>\n",
       "      <th>83</th>\n",
       "      <td>Odisha</td>\n",
       "      <td>1633.90</td>\n",
       "      <td>0.00</td>\n",
       "      <td>89.00000</td>\n",
       "      <td>10.0</td>\n",
       "      <td>1732.90</td>\n",
       "    </tr>\n",
       "    <tr>\n",
       "      <th>86</th>\n",
       "      <td>Sikkim</td>\n",
       "      <td>87.03</td>\n",
       "      <td>0.00</td>\n",
       "      <td>64.00000</td>\n",
       "      <td>0.0</td>\n",
       "      <td>151.03</td>\n",
       "    </tr>\n",
       "    <tr>\n",
       "      <th>89</th>\n",
       "      <td>Assam</td>\n",
       "      <td>714.58</td>\n",
       "      <td>0.00</td>\n",
       "      <td>368.51000</td>\n",
       "      <td>0.0</td>\n",
       "      <td>1083.09</td>\n",
       "    </tr>\n",
       "    <tr>\n",
       "      <th>92</th>\n",
       "      <td>Arunachal Pradesh</td>\n",
       "      <td>71.52</td>\n",
       "      <td>0.00</td>\n",
       "      <td>118.00000</td>\n",
       "      <td>0.0</td>\n",
       "      <td>189.52</td>\n",
       "    </tr>\n",
       "    <tr>\n",
       "      <th>95</th>\n",
       "      <td>Meghalaya</td>\n",
       "      <td>140.09</td>\n",
       "      <td>0.00</td>\n",
       "      <td>74.46000</td>\n",
       "      <td>0.0</td>\n",
       "      <td>214.55</td>\n",
       "    </tr>\n",
       "    <tr>\n",
       "      <th>98</th>\n",
       "      <td>Tripura</td>\n",
       "      <td>474.35</td>\n",
       "      <td>0.00</td>\n",
       "      <td>70.77000</td>\n",
       "      <td>5.0</td>\n",
       "      <td>550.12</td>\n",
       "    </tr>\n",
       "    <tr>\n",
       "      <th>101</th>\n",
       "      <td>Manipur</td>\n",
       "      <td>102.97</td>\n",
       "      <td>0.00</td>\n",
       "      <td>96.77000</td>\n",
       "      <td>0.0</td>\n",
       "      <td>199.74</td>\n",
       "    </tr>\n",
       "    <tr>\n",
       "      <th>104</th>\n",
       "      <td>Nagaland</td>\n",
       "      <td>70.33</td>\n",
       "      <td>0.00</td>\n",
       "      <td>58.60000</td>\n",
       "      <td>0.0</td>\n",
       "      <td>128.93</td>\n",
       "    </tr>\n",
       "    <tr>\n",
       "      <th>107</th>\n",
       "      <td>Mizoram</td>\n",
       "      <td>61.16</td>\n",
       "      <td>0.00</td>\n",
       "      <td>99.13000</td>\n",
       "      <td>0.0</td>\n",
       "      <td>160.29</td>\n",
       "    </tr>\n",
       "    <tr>\n",
       "      <th>110</th>\n",
       "      <td>Andaman  &amp; Nicobar</td>\n",
       "      <td>0.00</td>\n",
       "      <td>0.00</td>\n",
       "      <td>0.00000</td>\n",
       "      <td>5.1</td>\n",
       "      <td>5.10</td>\n",
       "    </tr>\n",
       "    <tr>\n",
       "      <th>113</th>\n",
       "      <td>lakshadweep</td>\n",
       "      <td>0.00</td>\n",
       "      <td>0.00</td>\n",
       "      <td>0.00000</td>\n",
       "      <td>0.0</td>\n",
       "      <td>0.00</td>\n",
       "    </tr>\n",
       "  </tbody>\n",
       "</table>\n",
       "</div>"
      ],
      "text/plain": [
       "                    State  Thermal  Nuclear       Hydro  RES * (MNRE)  \\\n",
       "2                   Delhi  4024.73   102.83   723.09000           0.0   \n",
       "5                 Haryana  1830.34   100.94   663.70181           5.0   \n",
       "8        Himachal Pradesh   245.41    28.95  1223.88000           0.0   \n",
       "11        Jammu & Kashmir   635.47    67.98  1091.88000           0.0   \n",
       "14                 Punjab  1118.59   196.81   923.42000           0.0   \n",
       "17              Rajasthan  1427.35   556.74   739.01000         294.0   \n",
       "20          Uttar Pradesh  4345.88   289.48  1802.53000          30.0   \n",
       "23            Uttarakhand   412.90    31.24   475.54000           0.0   \n",
       "26             Chandigarh    53.17     8.01   101.71000           0.0   \n",
       "29                    Goa   474.45    26.00     0.00000           0.0   \n",
       "32            Daman & Diu   169.97     7.00     0.00000           0.0   \n",
       "35                Gujarat  3514.51   559.00     0.00000         238.3   \n",
       "38         Madhya Pradesh  3051.41   273.00  1520.00000         300.0   \n",
       "41           Chhattisgarh  1953.44    48.00   100.00000           0.0   \n",
       "44            Maharashtra  6607.48   690.00     0.00000         123.0   \n",
       "47   Dadra & Nagar Naveli   240.78     9.00     0.00000           0.0   \n",
       "50         Andhra Pradesh  1674.56   127.27     0.00000         250.0   \n",
       "53              Telangana  1956.12   148.73     0.00000          10.0   \n",
       "56              Karnataka  2829.20   698.00     0.00000           0.0   \n",
       "59                 Kerala  1502.80   362.00     0.00000          50.0   \n",
       "62             Tamil Nadu  4489.52  1448.00     0.00000         181.9   \n",
       "65                    NLC   100.00     0.00     0.00000           0.0   \n",
       "68             Puducherry   248.40    86.00     0.00000           0.0   \n",
       "71                  Bihar  2914.33     0.00   110.00000           0.0   \n",
       "74              Jharkhand   393.74     0.00    61.00000           0.0   \n",
       "77            West Bengal   760.77     0.00   410.00000           0.0   \n",
       "80                    DVC  6985.04     0.00   186.20000           0.0   \n",
       "83                 Odisha  1633.90     0.00    89.00000          10.0   \n",
       "86                 Sikkim    87.03     0.00    64.00000           0.0   \n",
       "89                  Assam   714.58     0.00   368.51000           0.0   \n",
       "92      Arunachal Pradesh    71.52     0.00   118.00000           0.0   \n",
       "95              Meghalaya   140.09     0.00    74.46000           0.0   \n",
       "98                Tripura   474.35     0.00    70.77000           5.0   \n",
       "101               Manipur   102.97     0.00    96.77000           0.0   \n",
       "104              Nagaland    70.33     0.00    58.60000           0.0   \n",
       "107               Mizoram    61.16     0.00    99.13000           0.0   \n",
       "110    Andaman  & Nicobar     0.00     0.00     0.00000           5.1   \n",
       "113           lakshadweep     0.00     0.00     0.00000           0.0   \n",
       "\n",
       "     Grand Total  \n",
       "2        4850.65  \n",
       "5        2599.98  \n",
       "8        1498.24  \n",
       "11       1795.33  \n",
       "14       2238.82  \n",
       "17       3017.10  \n",
       "20       6467.89  \n",
       "23        919.68  \n",
       "26        162.89  \n",
       "29        500.45  \n",
       "32        176.97  \n",
       "35       4311.81  \n",
       "38       5144.41  \n",
       "41       2101.44  \n",
       "44       7420.48  \n",
       "47        249.78  \n",
       "50       2051.83  \n",
       "53       2114.85  \n",
       "56       3527.20  \n",
       "59       1914.80  \n",
       "62       6119.42  \n",
       "65        100.00  \n",
       "68        334.40  \n",
       "71       3024.32  \n",
       "74        454.74  \n",
       "77       1170.77  \n",
       "80       7171.24  \n",
       "83       1732.90  \n",
       "86        151.03  \n",
       "89       1083.09  \n",
       "92        189.52  \n",
       "95        214.55  \n",
       "98        550.12  \n",
       "101       199.74  \n",
       "104       128.93  \n",
       "107       160.29  \n",
       "110         5.10  \n",
       "113         0.00  "
      ]
     },
     "execution_count": 31,
     "metadata": {},
     "output_type": "execute_result"
    }
   ],
   "source": [
    "sector"
   ]
  },
  {
   "cell_type": "markdown",
   "metadata": {},
   "source": [
    "#### State-Wise Total Electricity Production by Central Govt. Ownership"
   ]
  },
  {
   "cell_type": "code",
   "execution_count": 32,
   "metadata": {},
   "outputs": [
    {
     "data": {
      "text/plain": [
       "(array([ 0,  1,  2,  3,  4,  5,  6,  7,  8,  9, 10, 11, 12, 13, 14, 15, 16,\n",
       "        17, 18, 19, 20, 21, 22, 23, 24, 25, 26, 27, 28, 29, 30, 31, 32, 33,\n",
       "        34, 35, 36, 37]), <a list of 38 Text xticklabel objects>)"
      ]
     },
     "execution_count": 32,
     "metadata": {},
     "output_type": "execute_result"
    },
    {
     "data": {
      "image/png": "[encoded data removed]",
      "text/plain": [
       "<Figure size 864x576 with 1 Axes>"
      ]
     },
     "metadata": {},
     "output_type": "display_data"
    }
   ],
   "source": [
    "sns.barplot('State','Grand Total',data=sector)\n",
    "plt.xticks(rotation=90)"
   ]
  },
  {
   "cell_type": "code",
   "execution_count": 33,
   "metadata": {},
   "outputs": [
    {
     "data": {
      "text/plain": [
       "Thermal         57316.29000\n",
       "Nuclear          5864.98000\n",
       "Hydro           11171.20181\n",
       "RES * (MNRE)     1502.30000\n",
       "dtype: float64"
      ]
     },
     "execution_count": 33,
     "metadata": {},
     "output_type": "execute_result"
    }
   ],
   "source": [
    "df[df.Sector=='Central'][['Thermal','Nuclear','Hydro','RES * (MNRE)']].sum()"
   ]
  },
  {
   "cell_type": "code",
   "execution_count": 34,
   "metadata": {},
   "outputs": [
    {
     "data": {
      "image/png": "[encoded data removed]",
      "text/plain": [
       "<Figure size 864x576 with 1 Axes>"
      ]
     },
     "metadata": {},
     "output_type": "display_data"
    }
   ],
   "source": [
    "\n",
    "x=[57316.29,5864.98,11171.20,1502.3]\n",
    "colors=['green','red','black','blue']\n",
    "plt.pie(x,labels=['Thermal','Nuclear','Hydro','Renewable Energy Sources'],\n",
    "       shadow=True,autopct='%1.2f%%')\n",
    "plt.title(\"Central Government's Ownership Production\")\n",
    "plt.legend()\n",
    "plt.show()"
   ]
  },
  {
   "cell_type": "markdown",
   "metadata": {},
   "source": [
    "#### Thermal Energy Contributes 75.56% in Total Electricity Production."
   ]
  },
  {
   "cell_type": "markdown",
   "metadata": {},
   "source": [
    "## State Government Ownership Production"
   ]
  },
  {
   "cell_type": "code",
   "execution_count": 35,
   "metadata": {},
   "outputs": [],
   "source": [
    "sector=df[df.Sector=='State'][['State','Thermal','Nuclear','Hydro','RES * (MNRE)','Grand Total']]"
   ]
  },
  {
   "cell_type": "code",
   "execution_count": 36,
   "metadata": {},
   "outputs": [
    {
     "data": {
      "text/html": [
       "<div>\n",
       "<style scoped>\n",
       "    .dataframe tbody tr th:only-of-type {\n",
       "        vertical-align: middle;\n",
       "    }\n",
       "\n",
       "    .dataframe tbody tr th {\n",
       "        vertical-align: top;\n",
       "    }\n",
       "\n",
       "    .dataframe thead th {\n",
       "        text-align: right;\n",
       "    }\n",
       "</style>\n",
       "<table border=\"1\" class=\"dataframe\">\n",
       "  <thead>\n",
       "    <tr style=\"text-align: right;\">\n",
       "      <th></th>\n",
       "      <th>State</th>\n",
       "      <th>Thermal</th>\n",
       "      <th>Nuclear</th>\n",
       "      <th>Hydro</th>\n",
       "      <th>RES * (MNRE)</th>\n",
       "      <th>Grand Total</th>\n",
       "    </tr>\n",
       "  </thead>\n",
       "  <tbody>\n",
       "    <tr>\n",
       "      <th>0</th>\n",
       "      <td>Delhi</td>\n",
       "      <td>1935.40</td>\n",
       "      <td>0.0</td>\n",
       "      <td>0.00</td>\n",
       "      <td>0.00</td>\n",
       "      <td>1935.40</td>\n",
       "    </tr>\n",
       "    <tr>\n",
       "      <th>3</th>\n",
       "      <td>Haryana</td>\n",
       "      <td>2870.00</td>\n",
       "      <td>0.0</td>\n",
       "      <td>1084.51</td>\n",
       "      <td>59.30</td>\n",
       "      <td>4013.81</td>\n",
       "    </tr>\n",
       "    <tr>\n",
       "      <th>6</th>\n",
       "      <td>Himachal Pradesh</td>\n",
       "      <td>0.00</td>\n",
       "      <td>0.0</td>\n",
       "      <td>694.60</td>\n",
       "      <td>256.61</td>\n",
       "      <td>951.21</td>\n",
       "    </tr>\n",
       "    <tr>\n",
       "      <th>9</th>\n",
       "      <td>Jammu &amp; Kashmir</td>\n",
       "      <td>175.00</td>\n",
       "      <td>0.0</td>\n",
       "      <td>1230.00</td>\n",
       "      <td>129.03</td>\n",
       "      <td>1534.03</td>\n",
       "    </tr>\n",
       "    <tr>\n",
       "      <th>12</th>\n",
       "      <td>Punjab</td>\n",
       "      <td>2770.00</td>\n",
       "      <td>0.0</td>\n",
       "      <td>2570.23</td>\n",
       "      <td>127.80</td>\n",
       "      <td>5468.03</td>\n",
       "    </tr>\n",
       "    <tr>\n",
       "      <th>15</th>\n",
       "      <td>Rajasthan</td>\n",
       "      <td>6453.80</td>\n",
       "      <td>0.0</td>\n",
       "      <td>1087.96</td>\n",
       "      <td>23.85</td>\n",
       "      <td>7565.61</td>\n",
       "    </tr>\n",
       "    <tr>\n",
       "      <th>18</th>\n",
       "      <td>Uttar Pradesh</td>\n",
       "      <td>5469.00</td>\n",
       "      <td>0.0</td>\n",
       "      <td>724.10</td>\n",
       "      <td>25.10</td>\n",
       "      <td>6218.20</td>\n",
       "    </tr>\n",
       "    <tr>\n",
       "      <th>21</th>\n",
       "      <td>Uttarakhand</td>\n",
       "      <td>0.00</td>\n",
       "      <td>0.0</td>\n",
       "      <td>1252.15</td>\n",
       "      <td>67.87</td>\n",
       "      <td>1320.02</td>\n",
       "    </tr>\n",
       "    <tr>\n",
       "      <th>24</th>\n",
       "      <td>Chandigarh</td>\n",
       "      <td>0.00</td>\n",
       "      <td>0.0</td>\n",
       "      <td>0.00</td>\n",
       "      <td>0.00</td>\n",
       "      <td>0.00</td>\n",
       "    </tr>\n",
       "    <tr>\n",
       "      <th>27</th>\n",
       "      <td>Goa</td>\n",
       "      <td>0.00</td>\n",
       "      <td>0.0</td>\n",
       "      <td>0.00</td>\n",
       "      <td>0.05</td>\n",
       "      <td>0.05</td>\n",
       "    </tr>\n",
       "    <tr>\n",
       "      <th>30</th>\n",
       "      <td>Daman &amp; Diu</td>\n",
       "      <td>0.00</td>\n",
       "      <td>0.0</td>\n",
       "      <td>0.00</td>\n",
       "      <td>0.00</td>\n",
       "      <td>0.00</td>\n",
       "    </tr>\n",
       "    <tr>\n",
       "      <th>33</th>\n",
       "      <td>Gujarat</td>\n",
       "      <td>6927.82</td>\n",
       "      <td>0.0</td>\n",
       "      <td>772.00</td>\n",
       "      <td>8.00</td>\n",
       "      <td>7707.82</td>\n",
       "    </tr>\n",
       "    <tr>\n",
       "      <th>36</th>\n",
       "      <td>Madhya Pradesh</td>\n",
       "      <td>4080.00</td>\n",
       "      <td>0.0</td>\n",
       "      <td>1703.66</td>\n",
       "      <td>83.96</td>\n",
       "      <td>5867.62</td>\n",
       "    </tr>\n",
       "    <tr>\n",
       "      <th>39</th>\n",
       "      <td>Chhattisgarh</td>\n",
       "      <td>2280.00</td>\n",
       "      <td>0.0</td>\n",
       "      <td>120.00</td>\n",
       "      <td>11.05</td>\n",
       "      <td>2411.05</td>\n",
       "    </tr>\n",
       "    <tr>\n",
       "      <th>42</th>\n",
       "      <td>Maharashtra</td>\n",
       "      <td>10842.00</td>\n",
       "      <td>0.0</td>\n",
       "      <td>2850.84</td>\n",
       "      <td>208.13</td>\n",
       "      <td>13900.97</td>\n",
       "    </tr>\n",
       "    <tr>\n",
       "      <th>45</th>\n",
       "      <td>Dadra &amp; Nagar Naveli</td>\n",
       "      <td>0.00</td>\n",
       "      <td>0.0</td>\n",
       "      <td>0.00</td>\n",
       "      <td>0.00</td>\n",
       "      <td>0.00</td>\n",
       "    </tr>\n",
       "    <tr>\n",
       "      <th>48</th>\n",
       "      <td>Andhra Pradesh</td>\n",
       "      <td>5245.40</td>\n",
       "      <td>0.0</td>\n",
       "      <td>1673.60</td>\n",
       "      <td>48.75</td>\n",
       "      <td>6967.75</td>\n",
       "    </tr>\n",
       "    <tr>\n",
       "      <th>51</th>\n",
       "      <td>Telangana</td>\n",
       "      <td>5082.50</td>\n",
       "      <td>0.0</td>\n",
       "      <td>2449.93</td>\n",
       "      <td>40.22</td>\n",
       "      <td>7572.65</td>\n",
       "    </tr>\n",
       "    <tr>\n",
       "      <th>54</th>\n",
       "      <td>Karnataka</td>\n",
       "      <td>5147.92</td>\n",
       "      <td>0.0</td>\n",
       "      <td>3599.80</td>\n",
       "      <td>155.33</td>\n",
       "      <td>8903.05</td>\n",
       "    </tr>\n",
       "    <tr>\n",
       "      <th>57</th>\n",
       "      <td>Kerala</td>\n",
       "      <td>159.96</td>\n",
       "      <td>0.0</td>\n",
       "      <td>1881.50</td>\n",
       "      <td>151.02</td>\n",
       "      <td>2192.48</td>\n",
       "    </tr>\n",
       "    <tr>\n",
       "      <th>60</th>\n",
       "      <td>Tamil Nadu</td>\n",
       "      <td>4844.08</td>\n",
       "      <td>0.0</td>\n",
       "      <td>2203.20</td>\n",
       "      <td>122.70</td>\n",
       "      <td>7169.98</td>\n",
       "    </tr>\n",
       "    <tr>\n",
       "      <th>63</th>\n",
       "      <td>NLC</td>\n",
       "      <td>0.00</td>\n",
       "      <td>0.0</td>\n",
       "      <td>0.00</td>\n",
       "      <td>0.00</td>\n",
       "      <td>0.00</td>\n",
       "    </tr>\n",
       "    <tr>\n",
       "      <th>66</th>\n",
       "      <td>Puducherry</td>\n",
       "      <td>32.50</td>\n",
       "      <td>0.0</td>\n",
       "      <td>0.00</td>\n",
       "      <td>0.00</td>\n",
       "      <td>32.50</td>\n",
       "    </tr>\n",
       "    <tr>\n",
       "      <th>69</th>\n",
       "      <td>Bihar</td>\n",
       "      <td>710.00</td>\n",
       "      <td>0.0</td>\n",
       "      <td>0.00</td>\n",
       "      <td>70.70</td>\n",
       "      <td>780.70</td>\n",
       "    </tr>\n",
       "    <tr>\n",
       "      <th>72</th>\n",
       "      <td>Jharkhand</td>\n",
       "      <td>420.00</td>\n",
       "      <td>0.0</td>\n",
       "      <td>130.00</td>\n",
       "      <td>4.05</td>\n",
       "      <td>554.05</td>\n",
       "    </tr>\n",
       "    <tr>\n",
       "      <th>75</th>\n",
       "      <td>West Bengal</td>\n",
       "      <td>5500.00</td>\n",
       "      <td>0.0</td>\n",
       "      <td>986.00</td>\n",
       "      <td>91.95</td>\n",
       "      <td>6577.95</td>\n",
       "    </tr>\n",
       "    <tr>\n",
       "      <th>78</th>\n",
       "      <td>DVC</td>\n",
       "      <td>0.00</td>\n",
       "      <td>0.0</td>\n",
       "      <td>0.00</td>\n",
       "      <td>0.00</td>\n",
       "      <td>0.00</td>\n",
       "    </tr>\n",
       "    <tr>\n",
       "      <th>81</th>\n",
       "      <td>Odisha</td>\n",
       "      <td>420.00</td>\n",
       "      <td>0.0</td>\n",
       "      <td>2061.92</td>\n",
       "      <td>6.30</td>\n",
       "      <td>2488.22</td>\n",
       "    </tr>\n",
       "    <tr>\n",
       "      <th>84</th>\n",
       "      <td>Sikkim</td>\n",
       "      <td>0.00</td>\n",
       "      <td>0.0</td>\n",
       "      <td>360.00</td>\n",
       "      <td>52.11</td>\n",
       "      <td>412.11</td>\n",
       "    </tr>\n",
       "    <tr>\n",
       "      <th>87</th>\n",
       "      <td>Assam</td>\n",
       "      <td>258.45</td>\n",
       "      <td>0.0</td>\n",
       "      <td>100.00</td>\n",
       "      <td>30.01</td>\n",
       "      <td>388.46</td>\n",
       "    </tr>\n",
       "    <tr>\n",
       "      <th>90</th>\n",
       "      <td>Arunachal Pradesh</td>\n",
       "      <td>0.00</td>\n",
       "      <td>0.0</td>\n",
       "      <td>0.00</td>\n",
       "      <td>106.11</td>\n",
       "      <td>106.11</td>\n",
       "    </tr>\n",
       "    <tr>\n",
       "      <th>93</th>\n",
       "      <td>Meghalaya</td>\n",
       "      <td>0.00</td>\n",
       "      <td>0.0</td>\n",
       "      <td>322.00</td>\n",
       "      <td>31.03</td>\n",
       "      <td>353.03</td>\n",
       "    </tr>\n",
       "    <tr>\n",
       "      <th>96</th>\n",
       "      <td>Tripura</td>\n",
       "      <td>169.50</td>\n",
       "      <td>0.0</td>\n",
       "      <td>0.00</td>\n",
       "      <td>16.01</td>\n",
       "      <td>185.51</td>\n",
       "    </tr>\n",
       "    <tr>\n",
       "      <th>99</th>\n",
       "      <td>Manipur</td>\n",
       "      <td>36.00</td>\n",
       "      <td>0.0</td>\n",
       "      <td>0.00</td>\n",
       "      <td>5.45</td>\n",
       "      <td>41.45</td>\n",
       "    </tr>\n",
       "    <tr>\n",
       "      <th>102</th>\n",
       "      <td>Nagaland</td>\n",
       "      <td>0.00</td>\n",
       "      <td>0.0</td>\n",
       "      <td>0.00</td>\n",
       "      <td>30.67</td>\n",
       "      <td>30.67</td>\n",
       "    </tr>\n",
       "    <tr>\n",
       "      <th>105</th>\n",
       "      <td>Mizoram</td>\n",
       "      <td>0.00</td>\n",
       "      <td>0.0</td>\n",
       "      <td>0.00</td>\n",
       "      <td>36.47</td>\n",
       "      <td>36.47</td>\n",
       "    </tr>\n",
       "    <tr>\n",
       "      <th>108</th>\n",
       "      <td>Andaman  &amp; Nicobar</td>\n",
       "      <td>40.05</td>\n",
       "      <td>0.0</td>\n",
       "      <td>0.00</td>\n",
       "      <td>5.25</td>\n",
       "      <td>45.30</td>\n",
       "    </tr>\n",
       "    <tr>\n",
       "      <th>111</th>\n",
       "      <td>lakshadweep</td>\n",
       "      <td>0.00</td>\n",
       "      <td>0.0</td>\n",
       "      <td>0.00</td>\n",
       "      <td>0.00</td>\n",
       "      <td>0.00</td>\n",
       "    </tr>\n",
       "  </tbody>\n",
       "</table>\n",
       "</div>"
      ],
      "text/plain": [
       "                    State   Thermal  Nuclear    Hydro  RES * (MNRE)  \\\n",
       "0                   Delhi   1935.40      0.0     0.00          0.00   \n",
       "3                 Haryana   2870.00      0.0  1084.51         59.30   \n",
       "6        Himachal Pradesh      0.00      0.0   694.60        256.61   \n",
       "9         Jammu & Kashmir    175.00      0.0  1230.00        129.03   \n",
       "12                 Punjab   2770.00      0.0  2570.23        127.80   \n",
       "15              Rajasthan   6453.80      0.0  1087.96         23.85   \n",
       "18          Uttar Pradesh   5469.00      0.0   724.10         25.10   \n",
       "21            Uttarakhand      0.00      0.0  1252.15         67.87   \n",
       "24             Chandigarh      0.00      0.0     0.00          0.00   \n",
       "27                    Goa      0.00      0.0     0.00          0.05   \n",
       "30            Daman & Diu      0.00      0.0     0.00          0.00   \n",
       "33                Gujarat   6927.82      0.0   772.00          8.00   \n",
       "36         Madhya Pradesh   4080.00      0.0  1703.66         83.96   \n",
       "39           Chhattisgarh   2280.00      0.0   120.00         11.05   \n",
       "42            Maharashtra  10842.00      0.0  2850.84        208.13   \n",
       "45   Dadra & Nagar Naveli      0.00      0.0     0.00          0.00   \n",
       "48         Andhra Pradesh   5245.40      0.0  1673.60         48.75   \n",
       "51              Telangana   5082.50      0.0  2449.93         40.22   \n",
       "54              Karnataka   5147.92      0.0  3599.80        155.33   \n",
       "57                 Kerala    159.96      0.0  1881.50        151.02   \n",
       "60             Tamil Nadu   4844.08      0.0  2203.20        122.70   \n",
       "63                    NLC      0.00      0.0     0.00          0.00   \n",
       "66             Puducherry     32.50      0.0     0.00          0.00   \n",
       "69                  Bihar    710.00      0.0     0.00         70.70   \n",
       "72              Jharkhand    420.00      0.0   130.00          4.05   \n",
       "75            West Bengal   5500.00      0.0   986.00         91.95   \n",
       "78                    DVC      0.00      0.0     0.00          0.00   \n",
       "81                 Odisha    420.00      0.0  2061.92          6.30   \n",
       "84                 Sikkim      0.00      0.0   360.00         52.11   \n",
       "87                  Assam    258.45      0.0   100.00         30.01   \n",
       "90      Arunachal Pradesh      0.00      0.0     0.00        106.11   \n",
       "93              Meghalaya      0.00      0.0   322.00         31.03   \n",
       "96                Tripura    169.50      0.0     0.00         16.01   \n",
       "99                Manipur     36.00      0.0     0.00          5.45   \n",
       "102              Nagaland      0.00      0.0     0.00         30.67   \n",
       "105               Mizoram      0.00      0.0     0.00         36.47   \n",
       "108    Andaman  & Nicobar     40.05      0.0     0.00          5.25   \n",
       "111           lakshadweep      0.00      0.0     0.00          0.00   \n",
       "\n",
       "     Grand Total  \n",
       "0        1935.40  \n",
       "3        4013.81  \n",
       "6         951.21  \n",
       "9        1534.03  \n",
       "12       5468.03  \n",
       "15       7565.61  \n",
       "18       6218.20  \n",
       "21       1320.02  \n",
       "24          0.00  \n",
       "27          0.05  \n",
       "30          0.00  \n",
       "33       7707.82  \n",
       "36       5867.62  \n",
       "39       2411.05  \n",
       "42      13900.97  \n",
       "45          0.00  \n",
       "48       6967.75  \n",
       "51       7572.65  \n",
       "54       8903.05  \n",
       "57       2192.48  \n",
       "60       7169.98  \n",
       "63          0.00  \n",
       "66         32.50  \n",
       "69        780.70  \n",
       "72        554.05  \n",
       "75       6577.95  \n",
       "78          0.00  \n",
       "81       2488.22  \n",
       "84        412.11  \n",
       "87        388.46  \n",
       "90        106.11  \n",
       "93        353.03  \n",
       "96        185.51  \n",
       "99         41.45  \n",
       "102        30.67  \n",
       "105        36.47  \n",
       "108        45.30  \n",
       "111         0.00  "
      ]
     },
     "execution_count": 36,
     "metadata": {},
     "output_type": "execute_result"
    }
   ],
   "source": [
    "sector"
   ]
  },
  {
   "cell_type": "markdown",
   "metadata": {},
   "source": [
    "### State-Wise Total Electricity Production"
   ]
  },
  {
   "cell_type": "code",
   "execution_count": 37,
   "metadata": {},
   "outputs": [
    {
     "data": {
      "text/plain": [
       "(array([ 0,  1,  2,  3,  4,  5,  6,  7,  8,  9, 10, 11, 12, 13, 14, 15, 16,\n",
       "        17, 18, 19, 20, 21, 22, 23, 24, 25, 26, 27, 28, 29, 30, 31, 32, 33,\n",
       "        34, 35, 36, 37]), <a list of 38 Text xticklabel objects>)"
      ]
     },
     "execution_count": 37,
     "metadata": {},
     "output_type": "execute_result"
    },
    {
     "data": {
      "image/png": "[encoded data removed]",
      "text/plain": [
       "<Figure size 864x576 with 1 Axes>"
      ]
     },
     "metadata": {},
     "output_type": "display_data"
    }
   ],
   "source": [
    "sns.barplot('State','Grand Total',data=sector)\n",
    "plt.xticks(rotation=90)"
   ]
  },
  {
   "cell_type": "code",
   "execution_count": 38,
   "metadata": {},
   "outputs": [
    {
     "data": {
      "text/plain": [
       "Thermal         71869.38\n",
       "Nuclear             0.00\n",
       "Hydro           29858.00\n",
       "RES * (MNRE)     2004.88\n",
       "dtype: float64"
      ]
     },
     "execution_count": 38,
     "metadata": {},
     "output_type": "execute_result"
    }
   ],
   "source": [
    "df[df.Sector=='State'][['Thermal','Nuclear','Hydro','RES * (MNRE)']].sum()"
   ]
  },
  {
   "cell_type": "code",
   "execution_count": 39,
   "metadata": {},
   "outputs": [
    {
     "data": {
      "image/png": "[encoded data removed]",
      "text/plain": [
       "<Figure size 864x576 with 1 Axes>"
      ]
     },
     "metadata": {},
     "output_type": "display_data"
    }
   ],
   "source": [
    "\n",
    "x=[71869.38,0,29858,2004.88]\n",
    "colors=[]\n",
    "plt.pie(x,labels=['Thermal','Nuclear','Hydro','Renewable Energy Sources'],\n",
    "       shadow=False,autopct='%1.2f%%')\n",
    "plt.title(\"State Government's Ownership Production\")\n",
    "plt.legend()\n",
    "plt.show()"
   ]
  },
  {
   "cell_type": "markdown",
   "metadata": {},
   "source": [
    "#### Thermal Energy Contributes 70.65% in Total Electricity Production."
   ]
  },
  {
   "cell_type": "markdown",
   "metadata": {},
   "source": [
    "### Private Sector Production"
   ]
  },
  {
   "cell_type": "code",
   "execution_count": 40,
   "metadata": {},
   "outputs": [],
   "source": [
    "sector=df[df.Sector=='Private'][['State','Thermal','Nuclear','Hydro','RES * (MNRE)','Grand Total']]"
   ]
  },
  {
   "cell_type": "code",
   "execution_count": 41,
   "metadata": {},
   "outputs": [
    {
     "data": {
      "text/html": [
       "<div>\n",
       "<style scoped>\n",
       "    .dataframe tbody tr th:only-of-type {\n",
       "        vertical-align: middle;\n",
       "    }\n",
       "\n",
       "    .dataframe tbody tr th {\n",
       "        vertical-align: top;\n",
       "    }\n",
       "\n",
       "    .dataframe thead th {\n",
       "        text-align: right;\n",
       "    }\n",
       "</style>\n",
       "<table border=\"1\" class=\"dataframe\">\n",
       "  <thead>\n",
       "    <tr style=\"text-align: right;\">\n",
       "      <th></th>\n",
       "      <th>State</th>\n",
       "      <th>Thermal</th>\n",
       "      <th>Nuclear</th>\n",
       "      <th>Hydro</th>\n",
       "      <th>RES * (MNRE)</th>\n",
       "      <th>Grand Total</th>\n",
       "    </tr>\n",
       "  </thead>\n",
       "  <tbody>\n",
       "    <tr>\n",
       "      <th>1</th>\n",
       "      <td>Delhi</td>\n",
       "      <td>977.22</td>\n",
       "      <td>0.0</td>\n",
       "      <td>0.0</td>\n",
       "      <td>121.57</td>\n",
       "      <td>1098.79</td>\n",
       "    </tr>\n",
       "    <tr>\n",
       "      <th>4</th>\n",
       "      <td>Haryana</td>\n",
       "      <td>4080.78</td>\n",
       "      <td>0.0</td>\n",
       "      <td>200.0</td>\n",
       "      <td>347.45</td>\n",
       "      <td>4628.23</td>\n",
       "    </tr>\n",
       "    <tr>\n",
       "      <th>7</th>\n",
       "      <td>Himachal Pradesh</td>\n",
       "      <td>0.00</td>\n",
       "      <td>0.0</td>\n",
       "      <td>992.0</td>\n",
       "      <td>605.36</td>\n",
       "      <td>1597.36</td>\n",
       "    </tr>\n",
       "    <tr>\n",
       "      <th>10</th>\n",
       "      <td>Jammu &amp; Kashmir</td>\n",
       "      <td>0.00</td>\n",
       "      <td>0.0</td>\n",
       "      <td>0.0</td>\n",
       "      <td>59.85</td>\n",
       "      <td>59.85</td>\n",
       "    </tr>\n",
       "    <tr>\n",
       "      <th>13</th>\n",
       "      <td>Punjab</td>\n",
       "      <td>5115.50</td>\n",
       "      <td>0.0</td>\n",
       "      <td>288.0</td>\n",
       "      <td>1154.62</td>\n",
       "      <td>6558.12</td>\n",
       "    </tr>\n",
       "    <tr>\n",
       "      <th>16</th>\n",
       "      <td>Rajasthan</td>\n",
       "      <td>3882.00</td>\n",
       "      <td>0.0</td>\n",
       "      <td>104.0</td>\n",
       "      <td>6485.77</td>\n",
       "      <td>10471.77</td>\n",
       "    </tr>\n",
       "    <tr>\n",
       "      <th>19</th>\n",
       "      <td>Uttar Pradesh</td>\n",
       "      <td>8714.33</td>\n",
       "      <td>0.0</td>\n",
       "      <td>842.0</td>\n",
       "      <td>2666.91</td>\n",
       "      <td>12223.24</td>\n",
       "    </tr>\n",
       "    <tr>\n",
       "      <th>22</th>\n",
       "      <td>Uttarakhand</td>\n",
       "      <td>549.00</td>\n",
       "      <td>0.0</td>\n",
       "      <td>88.0</td>\n",
       "      <td>522.44</td>\n",
       "      <td>1159.44</td>\n",
       "    </tr>\n",
       "    <tr>\n",
       "      <th>25</th>\n",
       "      <td>Chandigarh</td>\n",
       "      <td>0.00</td>\n",
       "      <td>0.0</td>\n",
       "      <td>0.0</td>\n",
       "      <td>30.35</td>\n",
       "      <td>30.35</td>\n",
       "    </tr>\n",
       "    <tr>\n",
       "      <th>28</th>\n",
       "      <td>Goa</td>\n",
       "      <td>48.00</td>\n",
       "      <td>0.0</td>\n",
       "      <td>0.0</td>\n",
       "      <td>0.91</td>\n",
       "      <td>48.91</td>\n",
       "    </tr>\n",
       "    <tr>\n",
       "      <th>31</th>\n",
       "      <td>Daman &amp; Diu</td>\n",
       "      <td>0.00</td>\n",
       "      <td>0.0</td>\n",
       "      <td>0.0</td>\n",
       "      <td>13.01</td>\n",
       "      <td>13.01</td>\n",
       "    </tr>\n",
       "    <tr>\n",
       "      <th>34</th>\n",
       "      <td>Gujarat</td>\n",
       "      <td>11725.67</td>\n",
       "      <td>0.0</td>\n",
       "      <td>0.0</td>\n",
       "      <td>7128.77</td>\n",
       "      <td>18854.44</td>\n",
       "    </tr>\n",
       "    <tr>\n",
       "      <th>37</th>\n",
       "      <td>Madhya Pradesh</td>\n",
       "      <td>5674.00</td>\n",
       "      <td>0.0</td>\n",
       "      <td>0.0</td>\n",
       "      <td>3652.30</td>\n",
       "      <td>9326.30</td>\n",
       "    </tr>\n",
       "    <tr>\n",
       "      <th>40</th>\n",
       "      <td>Chhattisgarh</td>\n",
       "      <td>8490.00</td>\n",
       "      <td>0.0</td>\n",
       "      <td>0.0</td>\n",
       "      <td>524.30</td>\n",
       "      <td>9014.30</td>\n",
       "    </tr>\n",
       "    <tr>\n",
       "      <th>43</th>\n",
       "      <td>Maharashtra</td>\n",
       "      <td>13024.00</td>\n",
       "      <td>0.0</td>\n",
       "      <td>481.0</td>\n",
       "      <td>8428.15</td>\n",
       "      <td>21933.15</td>\n",
       "    </tr>\n",
       "    <tr>\n",
       "      <th>46</th>\n",
       "      <td>Dadra &amp; Nagar Naveli</td>\n",
       "      <td>0.00</td>\n",
       "      <td>0.0</td>\n",
       "      <td>0.0</td>\n",
       "      <td>5.46</td>\n",
       "      <td>5.46</td>\n",
       "    </tr>\n",
       "    <tr>\n",
       "      <th>49</th>\n",
       "      <td>Andhra Pradesh</td>\n",
       "      <td>7604.80</td>\n",
       "      <td>0.0</td>\n",
       "      <td>0.0</td>\n",
       "      <td>6786.83</td>\n",
       "      <td>14391.63</td>\n",
       "    </tr>\n",
       "    <tr>\n",
       "      <th>52</th>\n",
       "      <td>Telangana</td>\n",
       "      <td>1790.33</td>\n",
       "      <td>0.0</td>\n",
       "      <td>0.0</td>\n",
       "      <td>3719.18</td>\n",
       "      <td>5509.51</td>\n",
       "    </tr>\n",
       "    <tr>\n",
       "      <th>55</th>\n",
       "      <td>Karnataka</td>\n",
       "      <td>1983.70</td>\n",
       "      <td>0.0</td>\n",
       "      <td>0.0</td>\n",
       "      <td>12596.19</td>\n",
       "      <td>14579.89</td>\n",
       "    </tr>\n",
       "    <tr>\n",
       "      <th>58</th>\n",
       "      <td>Kerala</td>\n",
       "      <td>789.00</td>\n",
       "      <td>0.0</td>\n",
       "      <td>0.0</td>\n",
       "      <td>208.99</td>\n",
       "      <td>997.99</td>\n",
       "    </tr>\n",
       "    <tr>\n",
       "      <th>61</th>\n",
       "      <td>Tamil Nadu</td>\n",
       "      <td>5752.47</td>\n",
       "      <td>0.0</td>\n",
       "      <td>0.0</td>\n",
       "      <td>11212.67</td>\n",
       "      <td>16965.14</td>\n",
       "    </tr>\n",
       "    <tr>\n",
       "      <th>64</th>\n",
       "      <td>NLC</td>\n",
       "      <td>0.00</td>\n",
       "      <td>0.0</td>\n",
       "      <td>0.0</td>\n",
       "      <td>0.00</td>\n",
       "      <td>0.00</td>\n",
       "    </tr>\n",
       "    <tr>\n",
       "      <th>67</th>\n",
       "      <td>Puducherry</td>\n",
       "      <td>0.00</td>\n",
       "      <td>0.0</td>\n",
       "      <td>0.0</td>\n",
       "      <td>1.71</td>\n",
       "      <td>1.71</td>\n",
       "    </tr>\n",
       "    <tr>\n",
       "      <th>70</th>\n",
       "      <td>Bihar</td>\n",
       "      <td>281.00</td>\n",
       "      <td>0.0</td>\n",
       "      <td>0.0</td>\n",
       "      <td>255.45</td>\n",
       "      <td>536.45</td>\n",
       "    </tr>\n",
       "    <tr>\n",
       "      <th>73</th>\n",
       "      <td>Jharkhand</td>\n",
       "      <td>730.00</td>\n",
       "      <td>0.0</td>\n",
       "      <td>0.0</td>\n",
       "      <td>31.78</td>\n",
       "      <td>761.78</td>\n",
       "    </tr>\n",
       "    <tr>\n",
       "      <th>76</th>\n",
       "      <td>West Bengal</td>\n",
       "      <td>2425.00</td>\n",
       "      <td>0.0</td>\n",
       "      <td>0.0</td>\n",
       "      <td>344.52</td>\n",
       "      <td>2769.52</td>\n",
       "    </tr>\n",
       "    <tr>\n",
       "      <th>79</th>\n",
       "      <td>DVC</td>\n",
       "      <td>0.00</td>\n",
       "      <td>0.0</td>\n",
       "      <td>0.0</td>\n",
       "      <td>0.00</td>\n",
       "      <td>0.00</td>\n",
       "    </tr>\n",
       "    <tr>\n",
       "      <th>82</th>\n",
       "      <td>Odisha</td>\n",
       "      <td>2939.00</td>\n",
       "      <td>0.0</td>\n",
       "      <td>0.0</td>\n",
       "      <td>208.98</td>\n",
       "      <td>3147.98</td>\n",
       "    </tr>\n",
       "    <tr>\n",
       "      <th>85</th>\n",
       "      <td>Sikkim</td>\n",
       "      <td>0.00</td>\n",
       "      <td>0.0</td>\n",
       "      <td>399.0</td>\n",
       "      <td>0.01</td>\n",
       "      <td>399.01</td>\n",
       "    </tr>\n",
       "    <tr>\n",
       "      <th>88</th>\n",
       "      <td>Assam</td>\n",
       "      <td>24.50</td>\n",
       "      <td>0.0</td>\n",
       "      <td>0.0</td>\n",
       "      <td>16.80</td>\n",
       "      <td>41.30</td>\n",
       "    </tr>\n",
       "    <tr>\n",
       "      <th>91</th>\n",
       "      <td>Arunachal Pradesh</td>\n",
       "      <td>0.00</td>\n",
       "      <td>0.0</td>\n",
       "      <td>0.0</td>\n",
       "      <td>5.39</td>\n",
       "      <td>5.39</td>\n",
       "    </tr>\n",
       "    <tr>\n",
       "      <th>94</th>\n",
       "      <td>Meghalaya</td>\n",
       "      <td>0.00</td>\n",
       "      <td>0.0</td>\n",
       "      <td>0.0</td>\n",
       "      <td>0.06</td>\n",
       "      <td>0.06</td>\n",
       "    </tr>\n",
       "    <tr>\n",
       "      <th>97</th>\n",
       "      <td>Tripura</td>\n",
       "      <td>0.00</td>\n",
       "      <td>0.0</td>\n",
       "      <td>0.0</td>\n",
       "      <td>0.09</td>\n",
       "      <td>0.09</td>\n",
       "    </tr>\n",
       "    <tr>\n",
       "      <th>100</th>\n",
       "      <td>Manipur</td>\n",
       "      <td>0.00</td>\n",
       "      <td>0.0</td>\n",
       "      <td>0.0</td>\n",
       "      <td>2.17</td>\n",
       "      <td>2.17</td>\n",
       "    </tr>\n",
       "    <tr>\n",
       "      <th>103</th>\n",
       "      <td>Nagaland</td>\n",
       "      <td>0.00</td>\n",
       "      <td>0.0</td>\n",
       "      <td>0.0</td>\n",
       "      <td>1.00</td>\n",
       "      <td>1.00</td>\n",
       "    </tr>\n",
       "    <tr>\n",
       "      <th>106</th>\n",
       "      <td>Mizoram</td>\n",
       "      <td>0.00</td>\n",
       "      <td>0.0</td>\n",
       "      <td>0.0</td>\n",
       "      <td>0.20</td>\n",
       "      <td>0.20</td>\n",
       "    </tr>\n",
       "    <tr>\n",
       "      <th>109</th>\n",
       "      <td>Andaman  &amp; Nicobar</td>\n",
       "      <td>0.00</td>\n",
       "      <td>0.0</td>\n",
       "      <td>0.0</td>\n",
       "      <td>1.46</td>\n",
       "      <td>1.46</td>\n",
       "    </tr>\n",
       "    <tr>\n",
       "      <th>112</th>\n",
       "      <td>lakshadweep</td>\n",
       "      <td>0.00</td>\n",
       "      <td>0.0</td>\n",
       "      <td>0.0</td>\n",
       "      <td>0.75</td>\n",
       "      <td>0.75</td>\n",
       "    </tr>\n",
       "  </tbody>\n",
       "</table>\n",
       "</div>"
      ],
      "text/plain": [
       "                    State   Thermal  Nuclear  Hydro  RES * (MNRE)  Grand Total\n",
       "1                   Delhi    977.22      0.0    0.0        121.57      1098.79\n",
       "4                 Haryana   4080.78      0.0  200.0        347.45      4628.23\n",
       "7        Himachal Pradesh      0.00      0.0  992.0        605.36      1597.36\n",
       "10        Jammu & Kashmir      0.00      0.0    0.0         59.85        59.85\n",
       "13                 Punjab   5115.50      0.0  288.0       1154.62      6558.12\n",
       "16              Rajasthan   3882.00      0.0  104.0       6485.77     10471.77\n",
       "19          Uttar Pradesh   8714.33      0.0  842.0       2666.91     12223.24\n",
       "22            Uttarakhand    549.00      0.0   88.0        522.44      1159.44\n",
       "25             Chandigarh      0.00      0.0    0.0         30.35        30.35\n",
       "28                    Goa     48.00      0.0    0.0          0.91        48.91\n",
       "31            Daman & Diu      0.00      0.0    0.0         13.01        13.01\n",
       "34                Gujarat  11725.67      0.0    0.0       7128.77     18854.44\n",
       "37         Madhya Pradesh   5674.00      0.0    0.0       3652.30      9326.30\n",
       "40           Chhattisgarh   8490.00      0.0    0.0        524.30      9014.30\n",
       "43            Maharashtra  13024.00      0.0  481.0       8428.15     21933.15\n",
       "46   Dadra & Nagar Naveli      0.00      0.0    0.0          5.46         5.46\n",
       "49         Andhra Pradesh   7604.80      0.0    0.0       6786.83     14391.63\n",
       "52              Telangana   1790.33      0.0    0.0       3719.18      5509.51\n",
       "55              Karnataka   1983.70      0.0    0.0      12596.19     14579.89\n",
       "58                 Kerala    789.00      0.0    0.0        208.99       997.99\n",
       "61             Tamil Nadu   5752.47      0.0    0.0      11212.67     16965.14\n",
       "64                    NLC      0.00      0.0    0.0          0.00         0.00\n",
       "67             Puducherry      0.00      0.0    0.0          1.71         1.71\n",
       "70                  Bihar    281.00      0.0    0.0        255.45       536.45\n",
       "73              Jharkhand    730.00      0.0    0.0         31.78       761.78\n",
       "76            West Bengal   2425.00      0.0    0.0        344.52      2769.52\n",
       "79                    DVC      0.00      0.0    0.0          0.00         0.00\n",
       "82                 Odisha   2939.00      0.0    0.0        208.98      3147.98\n",
       "85                 Sikkim      0.00      0.0  399.0          0.01       399.01\n",
       "88                  Assam     24.50      0.0    0.0         16.80        41.30\n",
       "91      Arunachal Pradesh      0.00      0.0    0.0          5.39         5.39\n",
       "94              Meghalaya      0.00      0.0    0.0          0.06         0.06\n",
       "97                Tripura      0.00      0.0    0.0          0.09         0.09\n",
       "100               Manipur      0.00      0.0    0.0          2.17         2.17\n",
       "103              Nagaland      0.00      0.0    0.0          1.00         1.00\n",
       "106               Mizoram      0.00      0.0    0.0          0.20         0.20\n",
       "109    Andaman  & Nicobar      0.00      0.0    0.0          1.46         1.46\n",
       "112           lakshadweep      0.00      0.0    0.0          0.75         0.75"
      ]
     },
     "execution_count": 41,
     "metadata": {},
     "output_type": "execute_result"
    }
   ],
   "source": [
    "sector"
   ]
  },
  {
   "cell_type": "markdown",
   "metadata": {},
   "source": [
    "### State-Wise Total Electricity Production"
   ]
  },
  {
   "cell_type": "code",
   "execution_count": 42,
   "metadata": {},
   "outputs": [
    {
     "data": {
      "text/plain": [
       "(array([ 0,  1,  2,  3,  4,  5,  6,  7,  8,  9, 10, 11, 12, 13, 14, 15, 16,\n",
       "        17, 18, 19, 20, 21, 22, 23, 24, 25, 26, 27, 28, 29, 30, 31, 32, 33,\n",
       "        34, 35, 36, 37]), <a list of 38 Text xticklabel objects>)"
      ]
     },
     "execution_count": 42,
     "metadata": {},
     "output_type": "execute_result"
    },
    {
     "data": {
      "image/png": "[encoded data removed]",
      "text/plain": [
       "<Figure size 864x576 with 1 Axes>"
      ]
     },
     "metadata": {},
     "output_type": "display_data"
    }
   ],
   "source": [
    "sns.barplot('State','Grand Total',data=sector)\n",
    "plt.xticks(rotation=90)"
   ]
  },
  {
   "cell_type": "code",
   "execution_count": 43,
   "metadata": {},
   "outputs": [
    {
     "data": {
      "text/plain": [
       "Thermal         86600.30\n",
       "Nuclear             0.00\n",
       "Hydro            3394.00\n",
       "RES * (MNRE)    67141.45\n",
       "dtype: float64"
      ]
     },
     "execution_count": 43,
     "metadata": {},
     "output_type": "execute_result"
    }
   ],
   "source": [
    "df[df.Sector=='Private'][['Thermal','Nuclear','Hydro','RES * (MNRE)']].sum()"
   ]
  },
  {
   "cell_type": "code",
   "execution_count": 44,
   "metadata": {},
   "outputs": [
    {
     "data": {
      "image/png": "[encoded data removed]",
      "text/plain": [
       "<Figure size 864x576 with 1 Axes>"
      ]
     },
     "metadata": {},
     "output_type": "display_data"
    }
   ],
   "source": [
    "x=[86600.3,0,3394,67141.45]\n",
    "clr=['purple','red','yellowgreen','green']\n",
    "plt.pie(x,labels=['Thermal','Nuclear','Hydro','Renewable Energy Sources'],\n",
    "       shadow=False,autopct='%1.2f%%',colors=clr)\n",
    "plt.title(\"Private Ownership Production\")\n",
    "plt.legend()\n",
    "plt.show()"
   ]
  },
  {
   "cell_type": "markdown",
   "metadata": {},
   "source": [
    "#### Thermal Energy Contributes 55.11% in Total Electricity Production."
   ]
  },
  {
   "cell_type": "markdown",
   "metadata": {},
   "source": [
    "## Region-wise Analysis"
   ]
  },
  {
   "cell_type": "code",
   "execution_count": 45,
   "metadata": {},
   "outputs": [
    {
     "data": {
      "text/plain": [
       "Index(['Region', 'Ownership/ Sector', 'Thermal', 'Nuclear', 'Hydro',\n",
       "       'RES * (MNRE)', 'Grand Total'],\n",
       "      dtype='object')"
      ]
     },
     "execution_count": 45,
     "metadata": {},
     "output_type": "execute_result"
    }
   ],
   "source": [
    "dt.columns"
   ]
  },
  {
   "cell_type": "code",
   "execution_count": 46,
   "metadata": {},
   "outputs": [],
   "source": [
    "dt.columns=['Region', 'Ownership', 'Thermal', 'Nuclear', 'Hydro',\n",
    "       'RES*(MNRE)', 'G_Total']"
   ]
  },
  {
   "cell_type": "code",
   "execution_count": 47,
   "metadata": {},
   "outputs": [
    {
     "data": {
      "text/plain": [
       "Index(['Region', 'Ownership', 'Thermal', 'Nuclear', 'Hydro', 'RES*(MNRE)',\n",
       "       'G_Total'],\n",
       "      dtype='object')"
      ]
     },
     "execution_count": 47,
     "metadata": {},
     "output_type": "execute_result"
    }
   ],
   "source": [
    "dt.columns"
   ]
  },
  {
   "cell_type": "code",
   "execution_count": 48,
   "metadata": {},
   "outputs": [
    {
     "data": {
      "text/html": [
       "<div>\n",
       "<style scoped>\n",
       "    .dataframe tbody tr th:only-of-type {\n",
       "        vertical-align: middle;\n",
       "    }\n",
       "\n",
       "    .dataframe tbody tr th {\n",
       "        vertical-align: top;\n",
       "    }\n",
       "\n",
       "    .dataframe thead th {\n",
       "        text-align: right;\n",
       "    }\n",
       "</style>\n",
       "<table border=\"1\" class=\"dataframe\">\n",
       "  <thead>\n",
       "    <tr style=\"text-align: right;\">\n",
       "      <th></th>\n",
       "      <th>Region</th>\n",
       "      <th>Ownership</th>\n",
       "      <th>Thermal</th>\n",
       "      <th>Nuclear</th>\n",
       "      <th>Hydro</th>\n",
       "      <th>RES*(MNRE)</th>\n",
       "      <th>G_Total</th>\n",
       "    </tr>\n",
       "  </thead>\n",
       "  <tbody>\n",
       "    <tr>\n",
       "      <th>0</th>\n",
       "      <td>Northern Region</td>\n",
       "      <td>State</td>\n",
       "      <td>19673.20</td>\n",
       "      <td>0.0</td>\n",
       "      <td>8643.55</td>\n",
       "      <td>689.56</td>\n",
       "      <td>29006.31</td>\n",
       "    </tr>\n",
       "    <tr>\n",
       "      <th>1</th>\n",
       "      <td>Northern Region</td>\n",
       "      <td>Private</td>\n",
       "      <td>23318.83</td>\n",
       "      <td>0.0</td>\n",
       "      <td>2514.00</td>\n",
       "      <td>11994.32</td>\n",
       "      <td>37827.15</td>\n",
       "    </tr>\n",
       "    <tr>\n",
       "      <th>2</th>\n",
       "      <td>Northern Region</td>\n",
       "      <td>Central</td>\n",
       "      <td>15634.43</td>\n",
       "      <td>1620.0</td>\n",
       "      <td>8496.22</td>\n",
       "      <td>329.00</td>\n",
       "      <td>26079.65</td>\n",
       "    </tr>\n",
       "    <tr>\n",
       "      <th>3</th>\n",
       "      <td>Western Region</td>\n",
       "      <td>State</td>\n",
       "      <td>24129.82</td>\n",
       "      <td>0.0</td>\n",
       "      <td>5446.50</td>\n",
       "      <td>311.19</td>\n",
       "      <td>29887.51</td>\n",
       "    </tr>\n",
       "    <tr>\n",
       "      <th>4</th>\n",
       "      <td>Western Region</td>\n",
       "      <td>Private</td>\n",
       "      <td>38961.67</td>\n",
       "      <td>0.0</td>\n",
       "      <td>481.00</td>\n",
       "      <td>19752.90</td>\n",
       "      <td>59195.57</td>\n",
       "    </tr>\n",
       "    <tr>\n",
       "      <th>5</th>\n",
       "      <td>Western Region</td>\n",
       "      <td>Central</td>\n",
       "      <td>18323.62</td>\n",
       "      <td>1840.0</td>\n",
       "      <td>1620.00</td>\n",
       "      <td>661.30</td>\n",
       "      <td>22444.92</td>\n",
       "    </tr>\n",
       "    <tr>\n",
       "      <th>6</th>\n",
       "      <td>Southern Region</td>\n",
       "      <td>State</td>\n",
       "      <td>20512.36</td>\n",
       "      <td>0.0</td>\n",
       "      <td>11808.03</td>\n",
       "      <td>518.02</td>\n",
       "      <td>32838.41</td>\n",
       "    </tr>\n",
       "    <tr>\n",
       "      <th>7</th>\n",
       "      <td>Southern Region</td>\n",
       "      <td>Private</td>\n",
       "      <td>17920.30</td>\n",
       "      <td>0.0</td>\n",
       "      <td>0.00</td>\n",
       "      <td>34525.57</td>\n",
       "      <td>52445.87</td>\n",
       "    </tr>\n",
       "    <tr>\n",
       "      <th>8</th>\n",
       "      <td>Southern Region</td>\n",
       "      <td>Central</td>\n",
       "      <td>14584.60</td>\n",
       "      <td>3320.0</td>\n",
       "      <td>0.00</td>\n",
       "      <td>491.90</td>\n",
       "      <td>18396.50</td>\n",
       "    </tr>\n",
       "    <tr>\n",
       "      <th>9</th>\n",
       "      <td>Eastern Region</td>\n",
       "      <td>State</td>\n",
       "      <td>7050.00</td>\n",
       "      <td>0.0</td>\n",
       "      <td>3537.92</td>\n",
       "      <td>225.11</td>\n",
       "      <td>10813.03</td>\n",
       "    </tr>\n",
       "    <tr>\n",
       "      <th>10</th>\n",
       "      <td>Eastern Region</td>\n",
       "      <td>Private</td>\n",
       "      <td>6375.00</td>\n",
       "      <td>0.0</td>\n",
       "      <td>399.00</td>\n",
       "      <td>840.74</td>\n",
       "      <td>7614.74</td>\n",
       "    </tr>\n",
       "    <tr>\n",
       "      <th>11</th>\n",
       "      <td>Eastern Region</td>\n",
       "      <td>Central</td>\n",
       "      <td>13876.64</td>\n",
       "      <td>0.0</td>\n",
       "      <td>1005.20</td>\n",
       "      <td>10.00</td>\n",
       "      <td>14891.84</td>\n",
       "    </tr>\n",
       "  </tbody>\n",
       "</table>\n",
       "</div>"
      ],
      "text/plain": [
       "             Region Ownership   Thermal  Nuclear     Hydro  RES*(MNRE)  \\\n",
       "0   Northern Region     State  19673.20      0.0   8643.55      689.56   \n",
       "1   Northern Region   Private  23318.83      0.0   2514.00    11994.32   \n",
       "2   Northern Region   Central  15634.43   1620.0   8496.22      329.00   \n",
       "3    Western Region     State  24129.82      0.0   5446.50      311.19   \n",
       "4    Western Region   Private  38961.67      0.0    481.00    19752.90   \n",
       "5    Western Region   Central  18323.62   1840.0   1620.00      661.30   \n",
       "6   Southern Region     State  20512.36      0.0  11808.03      518.02   \n",
       "7   Southern Region   Private  17920.30      0.0      0.00    34525.57   \n",
       "8   Southern Region   Central  14584.60   3320.0      0.00      491.90   \n",
       "9    Eastern Region     State   7050.00      0.0   3537.92      225.11   \n",
       "10   Eastern Region   Private   6375.00      0.0    399.00      840.74   \n",
       "11   Eastern Region   Central  13876.64      0.0   1005.20       10.00   \n",
       "\n",
       "     G_Total  \n",
       "0   29006.31  \n",
       "1   37827.15  \n",
       "2   26079.65  \n",
       "3   29887.51  \n",
       "4   59195.57  \n",
       "5   22444.92  \n",
       "6   32838.41  \n",
       "7   52445.87  \n",
       "8   18396.50  \n",
       "9   10813.03  \n",
       "10   7614.74  \n",
       "11  14891.84  "
      ]
     },
     "execution_count": 48,
     "metadata": {},
     "output_type": "execute_result"
    }
   ],
   "source": [
    "dt.head(12)"
   ]
  },
  {
   "cell_type": "markdown",
   "metadata": {},
   "source": [
    "## Northern Region"
   ]
  },
  {
   "cell_type": "code",
   "execution_count": 49,
   "metadata": {},
   "outputs": [],
   "source": [
    "sector=dt[dt.Region=='Northern Region'][['Ownership','Thermal','Nuclear','Hydro','RES*(MNRE)','G_Total']]"
   ]
  },
  {
   "cell_type": "code",
   "execution_count": 50,
   "metadata": {},
   "outputs": [
    {
     "data": {
      "text/html": [
       "<div>\n",
       "<style scoped>\n",
       "    .dataframe tbody tr th:only-of-type {\n",
       "        vertical-align: middle;\n",
       "    }\n",
       "\n",
       "    .dataframe tbody tr th {\n",
       "        vertical-align: top;\n",
       "    }\n",
       "\n",
       "    .dataframe thead th {\n",
       "        text-align: right;\n",
       "    }\n",
       "</style>\n",
       "<table border=\"1\" class=\"dataframe\">\n",
       "  <thead>\n",
       "    <tr style=\"text-align: right;\">\n",
       "      <th></th>\n",
       "      <th>Ownership</th>\n",
       "      <th>Thermal</th>\n",
       "      <th>Nuclear</th>\n",
       "      <th>Hydro</th>\n",
       "      <th>RES*(MNRE)</th>\n",
       "      <th>G_Total</th>\n",
       "    </tr>\n",
       "  </thead>\n",
       "  <tbody>\n",
       "    <tr>\n",
       "      <th>0</th>\n",
       "      <td>State</td>\n",
       "      <td>19673.20</td>\n",
       "      <td>0.0</td>\n",
       "      <td>8643.55</td>\n",
       "      <td>689.56</td>\n",
       "      <td>29006.31</td>\n",
       "    </tr>\n",
       "    <tr>\n",
       "      <th>1</th>\n",
       "      <td>Private</td>\n",
       "      <td>23318.83</td>\n",
       "      <td>0.0</td>\n",
       "      <td>2514.00</td>\n",
       "      <td>11994.32</td>\n",
       "      <td>37827.15</td>\n",
       "    </tr>\n",
       "    <tr>\n",
       "      <th>2</th>\n",
       "      <td>Central</td>\n",
       "      <td>15634.43</td>\n",
       "      <td>1620.0</td>\n",
       "      <td>8496.22</td>\n",
       "      <td>329.00</td>\n",
       "      <td>26079.65</td>\n",
       "    </tr>\n",
       "  </tbody>\n",
       "</table>\n",
       "</div>"
      ],
      "text/plain": [
       "  Ownership   Thermal  Nuclear    Hydro  RES*(MNRE)   G_Total\n",
       "0     State  19673.20      0.0  8643.55      689.56  29006.31\n",
       "1   Private  23318.83      0.0  2514.00    11994.32  37827.15\n",
       "2   Central  15634.43   1620.0  8496.22      329.00  26079.65"
      ]
     },
     "execution_count": 50,
     "metadata": {},
     "output_type": "execute_result"
    }
   ],
   "source": [
    "sector"
   ]
  },
  {
   "cell_type": "code",
   "execution_count": 51,
   "metadata": {},
   "outputs": [
    {
     "data": {
      "text/plain": [
       "(array([0, 1, 2]), <a list of 3 Text xticklabel objects>)"
      ]
     },
     "execution_count": 51,
     "metadata": {},
     "output_type": "execute_result"
    },
    {
     "data": {
      "image/png": "[encoded data removed]",
      "text/plain": [
       "<Figure size 864x576 with 1 Axes>"
      ]
     },
     "metadata": {},
     "output_type": "display_data"
    }
   ],
   "source": [
    "sns.barplot('Ownership','G_Total',data=sector)\n",
    "plt.xticks(rotation=360)"
   ]
  },
  {
   "cell_type": "code",
   "execution_count": 52,
   "metadata": {},
   "outputs": [
    {
     "data": {
      "text/plain": [
       "Thermal       58626.46\n",
       "Nuclear        1620.00\n",
       "Hydro         19653.77\n",
       "RES*(MNRE)    13012.88\n",
       "dtype: float64"
      ]
     },
     "execution_count": 52,
     "metadata": {},
     "output_type": "execute_result"
    }
   ],
   "source": [
    "dt[dt.Region=='Northern Region'][['Thermal','Nuclear','Hydro','RES*(MNRE)']].sum()"
   ]
  },
  {
   "cell_type": "code",
   "execution_count": 53,
   "metadata": {},
   "outputs": [
    {
     "data": {
      "image/png": "[encoded data removed]",
      "text/plain": [
       "<Figure size 864x576 with 1 Axes>"
      ]
     },
     "metadata": {},
     "output_type": "display_data"
    }
   ],
   "source": [
    "x=[58626.46,1620,19653.77,13012.88]\n",
    "plt.pie(x,labels=['Thermal','Nuclear','Hydro','Renewable Energy Sources'],\n",
    "       shadow=False,autopct='%1.2f%%')\n",
    "plt.title(\"Northern Region Production\")\n",
    "plt.legend()\n",
    "plt.show()"
   ]
  },
  {
   "cell_type": "markdown",
   "metadata": {},
   "source": [
    "#### Thermal Energy Contributes 63.10% i.e. highest in Total Electricity Production."
   ]
  },
  {
   "cell_type": "markdown",
   "metadata": {},
   "source": [
    "## Western Region"
   ]
  },
  {
   "cell_type": "code",
   "execution_count": 54,
   "metadata": {},
   "outputs": [],
   "source": [
    "sector=dt[dt.Region=='Western Region'][['Ownership','Thermal','Nuclear','Hydro','RES*(MNRE)','G_Total']]"
   ]
  },
  {
   "cell_type": "code",
   "execution_count": 55,
   "metadata": {},
   "outputs": [
    {
     "data": {
      "text/html": [
       "<div>\n",
       "<style scoped>\n",
       "    .dataframe tbody tr th:only-of-type {\n",
       "        vertical-align: middle;\n",
       "    }\n",
       "\n",
       "    .dataframe tbody tr th {\n",
       "        vertical-align: top;\n",
       "    }\n",
       "\n",
       "    .dataframe thead th {\n",
       "        text-align: right;\n",
       "    }\n",
       "</style>\n",
       "<table border=\"1\" class=\"dataframe\">\n",
       "  <thead>\n",
       "    <tr style=\"text-align: right;\">\n",
       "      <th></th>\n",
       "      <th>Ownership</th>\n",
       "      <th>Thermal</th>\n",
       "      <th>Nuclear</th>\n",
       "      <th>Hydro</th>\n",
       "      <th>RES*(MNRE)</th>\n",
       "      <th>G_Total</th>\n",
       "    </tr>\n",
       "  </thead>\n",
       "  <tbody>\n",
       "    <tr>\n",
       "      <th>3</th>\n",
       "      <td>State</td>\n",
       "      <td>24129.82</td>\n",
       "      <td>0.0</td>\n",
       "      <td>5446.5</td>\n",
       "      <td>311.19</td>\n",
       "      <td>29887.51</td>\n",
       "    </tr>\n",
       "    <tr>\n",
       "      <th>4</th>\n",
       "      <td>Private</td>\n",
       "      <td>38961.67</td>\n",
       "      <td>0.0</td>\n",
       "      <td>481.0</td>\n",
       "      <td>19752.90</td>\n",
       "      <td>59195.57</td>\n",
       "    </tr>\n",
       "    <tr>\n",
       "      <th>5</th>\n",
       "      <td>Central</td>\n",
       "      <td>18323.62</td>\n",
       "      <td>1840.0</td>\n",
       "      <td>1620.0</td>\n",
       "      <td>661.30</td>\n",
       "      <td>22444.92</td>\n",
       "    </tr>\n",
       "  </tbody>\n",
       "</table>\n",
       "</div>"
      ],
      "text/plain": [
       "  Ownership   Thermal  Nuclear   Hydro  RES*(MNRE)   G_Total\n",
       "3     State  24129.82      0.0  5446.5      311.19  29887.51\n",
       "4   Private  38961.67      0.0   481.0    19752.90  59195.57\n",
       "5   Central  18323.62   1840.0  1620.0      661.30  22444.92"
      ]
     },
     "execution_count": 55,
     "metadata": {},
     "output_type": "execute_result"
    }
   ],
   "source": [
    "sector"
   ]
  },
  {
   "cell_type": "code",
   "execution_count": 56,
   "metadata": {},
   "outputs": [
    {
     "data": {
      "text/plain": [
       "(array([0, 1, 2]), <a list of 3 Text xticklabel objects>)"
      ]
     },
     "execution_count": 56,
     "metadata": {},
     "output_type": "execute_result"
    },
    {
     "data": {
      "image/png": "[encoded data removed]",
      "text/plain": [
       "<Figure size 864x576 with 1 Axes>"
      ]
     },
     "metadata": {},
     "output_type": "display_data"
    }
   ],
   "source": [
    "sns.barplot('Ownership','G_Total',data=sector)\n",
    "plt.xticks(rotation=360)"
   ]
  },
  {
   "cell_type": "code",
   "execution_count": 57,
   "metadata": {},
   "outputs": [
    {
     "data": {
      "text/plain": [
       "Thermal       81415.11\n",
       "Nuclear        1840.00\n",
       "Hydro          7547.50\n",
       "RES*(MNRE)    20725.39\n",
       "dtype: float64"
      ]
     },
     "execution_count": 57,
     "metadata": {},
     "output_type": "execute_result"
    }
   ],
   "source": [
    "dt[dt.Region=='Western Region'][['Thermal','Nuclear','Hydro','RES*(MNRE)']].sum()"
   ]
  },
  {
   "cell_type": "code",
   "execution_count": 58,
   "metadata": {},
   "outputs": [
    {
     "data": {
      "image/png": "[encoded data removed]",
      "text/plain": [
       "<Figure size 864x576 with 1 Axes>"
      ]
     },
     "metadata": {},
     "output_type": "display_data"
    }
   ],
   "source": [
    "x=[81415.11,1840,7547.5,20725.39]\n",
    "plt.pie(x,labels=['Thermal','Nuclear','Hydro','Renewable Energy Sources|'],\n",
    "       shadow=False,autopct='%1.2f%%')\n",
    "plt.title(\"Western Region Production\")\n",
    "plt.legend()\n",
    "plt.show()"
   ]
  },
  {
   "cell_type": "markdown",
   "metadata": {},
   "source": [
    "#### Thermal Energy Contributes 73.00% in Total Electricity Production."
   ]
  },
  {
   "cell_type": "markdown",
   "metadata": {},
   "source": [
    "## Southern Region"
   ]
  },
  {
   "cell_type": "code",
   "execution_count": 59,
   "metadata": {},
   "outputs": [],
   "source": [
    "sector=dt[dt.Region=='Southern Region'][['Ownership','Thermal','Nuclear','Hydro','RES*(MNRE)','G_Total']]"
   ]
  },
  {
   "cell_type": "code",
   "execution_count": 60,
   "metadata": {},
   "outputs": [
    {
     "data": {
      "text/html": [
       "<div>\n",
       "<style scoped>\n",
       "    .dataframe tbody tr th:only-of-type {\n",
       "        vertical-align: middle;\n",
       "    }\n",
       "\n",
       "    .dataframe tbody tr th {\n",
       "        vertical-align: top;\n",
       "    }\n",
       "\n",
       "    .dataframe thead th {\n",
       "        text-align: right;\n",
       "    }\n",
       "</style>\n",
       "<table border=\"1\" class=\"dataframe\">\n",
       "  <thead>\n",
       "    <tr style=\"text-align: right;\">\n",
       "      <th></th>\n",
       "      <th>Ownership</th>\n",
       "      <th>Thermal</th>\n",
       "      <th>Nuclear</th>\n",
       "      <th>Hydro</th>\n",
       "      <th>RES*(MNRE)</th>\n",
       "      <th>G_Total</th>\n",
       "    </tr>\n",
       "  </thead>\n",
       "  <tbody>\n",
       "    <tr>\n",
       "      <th>6</th>\n",
       "      <td>State</td>\n",
       "      <td>20512.36</td>\n",
       "      <td>0.0</td>\n",
       "      <td>11808.03</td>\n",
       "      <td>518.02</td>\n",
       "      <td>32838.41</td>\n",
       "    </tr>\n",
       "    <tr>\n",
       "      <th>7</th>\n",
       "      <td>Private</td>\n",
       "      <td>17920.30</td>\n",
       "      <td>0.0</td>\n",
       "      <td>0.00</td>\n",
       "      <td>34525.57</td>\n",
       "      <td>52445.87</td>\n",
       "    </tr>\n",
       "    <tr>\n",
       "      <th>8</th>\n",
       "      <td>Central</td>\n",
       "      <td>14584.60</td>\n",
       "      <td>3320.0</td>\n",
       "      <td>0.00</td>\n",
       "      <td>491.90</td>\n",
       "      <td>18396.50</td>\n",
       "    </tr>\n",
       "  </tbody>\n",
       "</table>\n",
       "</div>"
      ],
      "text/plain": [
       "  Ownership   Thermal  Nuclear     Hydro  RES*(MNRE)   G_Total\n",
       "6     State  20512.36      0.0  11808.03      518.02  32838.41\n",
       "7   Private  17920.30      0.0      0.00    34525.57  52445.87\n",
       "8   Central  14584.60   3320.0      0.00      491.90  18396.50"
      ]
     },
     "execution_count": 60,
     "metadata": {},
     "output_type": "execute_result"
    }
   ],
   "source": [
    "sector"
   ]
  },
  {
   "cell_type": "code",
   "execution_count": 61,
   "metadata": {},
   "outputs": [
    {
     "data": {
      "text/plain": [
       "(array([0, 1, 2]), <a list of 3 Text xticklabel objects>)"
      ]
     },
     "execution_count": 61,
     "metadata": {},
     "output_type": "execute_result"
    },
    {
     "data": {
      "image/png": "[encoded data removed]",
      "text/plain": [
       "<Figure size 864x576 with 1 Axes>"
      ]
     },
     "metadata": {},
     "output_type": "display_data"
    }
   ],
   "source": [
    "sns.barplot('Ownership','G_Total',data=sector)\n",
    "plt.xticks(rotation=360)"
   ]
  },
  {
   "cell_type": "code",
   "execution_count": 62,
   "metadata": {},
   "outputs": [
    {
     "data": {
      "text/plain": [
       "Thermal       53017.26\n",
       "Nuclear        3320.00\n",
       "Hydro         11808.03\n",
       "RES*(MNRE)    35535.49\n",
       "dtype: float64"
      ]
     },
     "execution_count": 62,
     "metadata": {},
     "output_type": "execute_result"
    }
   ],
   "source": [
    "dt[dt.Region=='Southern Region'][['Thermal','Nuclear','Hydro','RES*(MNRE)']].sum()"
   ]
  },
  {
   "cell_type": "code",
   "execution_count": 63,
   "metadata": {},
   "outputs": [
    {
     "data": {
      "image/png": "[encoded data removed]",
      "text/plain": [
       "<Figure size 864x576 with 1 Axes>"
      ]
     },
     "metadata": {},
     "output_type": "display_data"
    }
   ],
   "source": [
    "x=[53017.26,3320,11808.03,35535.49]\n",
    "plt.pie(x,labels=['Thermal','Nuclear','Hydro','Renewable Energy Resources'],\n",
    "       shadow=False,autopct='%1.2f%%')\n",
    "plt.title(\"Southern Region Production\")\n",
    "plt.legend()\n",
    "plt.show()"
   ]
  },
  {
   "cell_type": "markdown",
   "metadata": {},
   "source": [
    "#### Thermal Energy Contributes 51.14% in Total Electricity Production."
   ]
  },
  {
   "cell_type": "markdown",
   "metadata": {},
   "source": [
    "## Eastern Region"
   ]
  },
  {
   "cell_type": "code",
   "execution_count": 64,
   "metadata": {},
   "outputs": [],
   "source": [
    "sector=dt[dt.Region=='Eastern Region'][['Ownership','Thermal','Nuclear','Hydro','RES*(MNRE)','G_Total']]"
   ]
  },
  {
   "cell_type": "code",
   "execution_count": 65,
   "metadata": {},
   "outputs": [
    {
     "data": {
      "text/html": [
       "<div>\n",
       "<style scoped>\n",
       "    .dataframe tbody tr th:only-of-type {\n",
       "        vertical-align: middle;\n",
       "    }\n",
       "\n",
       "    .dataframe tbody tr th {\n",
       "        vertical-align: top;\n",
       "    }\n",
       "\n",
       "    .dataframe thead th {\n",
       "        text-align: right;\n",
       "    }\n",
       "</style>\n",
       "<table border=\"1\" class=\"dataframe\">\n",
       "  <thead>\n",
       "    <tr style=\"text-align: right;\">\n",
       "      <th></th>\n",
       "      <th>Ownership</th>\n",
       "      <th>Thermal</th>\n",
       "      <th>Nuclear</th>\n",
       "      <th>Hydro</th>\n",
       "      <th>RES*(MNRE)</th>\n",
       "      <th>G_Total</th>\n",
       "    </tr>\n",
       "  </thead>\n",
       "  <tbody>\n",
       "    <tr>\n",
       "      <th>9</th>\n",
       "      <td>State</td>\n",
       "      <td>7050.00</td>\n",
       "      <td>0.0</td>\n",
       "      <td>3537.92</td>\n",
       "      <td>225.11</td>\n",
       "      <td>10813.03</td>\n",
       "    </tr>\n",
       "    <tr>\n",
       "      <th>10</th>\n",
       "      <td>Private</td>\n",
       "      <td>6375.00</td>\n",
       "      <td>0.0</td>\n",
       "      <td>399.00</td>\n",
       "      <td>840.74</td>\n",
       "      <td>7614.74</td>\n",
       "    </tr>\n",
       "    <tr>\n",
       "      <th>11</th>\n",
       "      <td>Central</td>\n",
       "      <td>13876.64</td>\n",
       "      <td>0.0</td>\n",
       "      <td>1005.20</td>\n",
       "      <td>10.00</td>\n",
       "      <td>14891.84</td>\n",
       "    </tr>\n",
       "  </tbody>\n",
       "</table>\n",
       "</div>"
      ],
      "text/plain": [
       "   Ownership   Thermal  Nuclear    Hydro  RES*(MNRE)   G_Total\n",
       "9      State   7050.00      0.0  3537.92      225.11  10813.03\n",
       "10   Private   6375.00      0.0   399.00      840.74   7614.74\n",
       "11   Central  13876.64      0.0  1005.20       10.00  14891.84"
      ]
     },
     "execution_count": 65,
     "metadata": {},
     "output_type": "execute_result"
    }
   ],
   "source": [
    "sector"
   ]
  },
  {
   "cell_type": "code",
   "execution_count": 66,
   "metadata": {},
   "outputs": [
    {
     "data": {
      "text/plain": [
       "(array([0, 1, 2]), <a list of 3 Text xticklabel objects>)"
      ]
     },
     "execution_count": 66,
     "metadata": {},
     "output_type": "execute_result"
    },
    {
     "data": {
      "image/png": "[encoded data removed]",
      "text/plain": [
       "<Figure size 864x576 with 1 Axes>"
      ]
     },
     "metadata": {},
     "output_type": "display_data"
    }
   ],
   "source": [
    "sns.barplot('Ownership','G_Total',data=sector)\n",
    "plt.xticks(rotation=360)"
   ]
  },
  {
   "cell_type": "code",
   "execution_count": 67,
   "metadata": {},
   "outputs": [
    {
     "data": {
      "text/plain": [
       "Thermal       27301.64\n",
       "Nuclear           0.00\n",
       "Hydro          4942.12\n",
       "RES*(MNRE)     1075.85\n",
       "dtype: float64"
      ]
     },
     "execution_count": 67,
     "metadata": {},
     "output_type": "execute_result"
    }
   ],
   "source": [
    "dt[dt.Region=='Eastern Region'][['Thermal','Nuclear','Hydro','RES*(MNRE)']].sum()"
   ]
  },
  {
   "cell_type": "code",
   "execution_count": 68,
   "metadata": {
    "scrolled": true
   },
   "outputs": [
    {
     "data": {
      "image/png": "[encoded data removed]",
      "text/plain": [
       "<Figure size 864x576 with 1 Axes>"
      ]
     },
     "metadata": {},
     "output_type": "display_data"
    }
   ],
   "source": [
    "x=[27301.64,0,4942.12,1075.85]\n",
    "plt.pie(x,labels=['Thermal','Nuclear','Hydro','Renewable Energy Sources'],\n",
    "       shadow=False,autopct='%1.2f%%')\n",
    "plt.title(\"Southern Region Production\")\n",
    "plt.legend()\n",
    "plt.show()"
   ]
  },
  {
   "cell_type": "markdown",
   "metadata": {},
   "source": [
    "#### Thermal Energy Contributes 81.94% in Total Electricity Production."
   ]
  },
  {
   "cell_type": "markdown",
   "metadata": {},
   "source": [
    "## All India Electricity Production."
   ]
  },
  {
   "cell_type": "code",
   "execution_count": 69,
   "metadata": {},
   "outputs": [],
   "source": [
    "sector=dt[dt.Region=='ALL INDIA'][['Ownership','Thermal','Nuclear','Hydro','RES*(MNRE)','G_Total']]"
   ]
  },
  {
   "cell_type": "code",
   "execution_count": 70,
   "metadata": {},
   "outputs": [
    {
     "data": {
      "text/html": [
       "<div>\n",
       "<style scoped>\n",
       "    .dataframe tbody tr th:only-of-type {\n",
       "        vertical-align: middle;\n",
       "    }\n",
       "\n",
       "    .dataframe tbody tr th {\n",
       "        vertical-align: top;\n",
       "    }\n",
       "\n",
       "    .dataframe thead th {\n",
       "        text-align: right;\n",
       "    }\n",
       "</style>\n",
       "<table border=\"1\" class=\"dataframe\">\n",
       "  <thead>\n",
       "    <tr style=\"text-align: right;\">\n",
       "      <th></th>\n",
       "      <th>Ownership</th>\n",
       "      <th>Thermal</th>\n",
       "      <th>Nuclear</th>\n",
       "      <th>Hydro</th>\n",
       "      <th>RES*(MNRE)</th>\n",
       "      <th>G_Total</th>\n",
       "    </tr>\n",
       "  </thead>\n",
       "  <tbody>\n",
       "    <tr>\n",
       "      <th>19</th>\n",
       "      <td>State</td>\n",
       "      <td>71869.38</td>\n",
       "      <td>0.0</td>\n",
       "      <td>29858.00</td>\n",
       "      <td>2004.87</td>\n",
       "      <td>103732.25</td>\n",
       "    </tr>\n",
       "    <tr>\n",
       "      <th>20</th>\n",
       "      <td>Private</td>\n",
       "      <td>86600.30</td>\n",
       "      <td>0.0</td>\n",
       "      <td>3394.00</td>\n",
       "      <td>67141.44</td>\n",
       "      <td>157135.74</td>\n",
       "    </tr>\n",
       "    <tr>\n",
       "      <th>21</th>\n",
       "      <td>Central</td>\n",
       "      <td>64192.91</td>\n",
       "      <td>6780.0</td>\n",
       "      <td>12151.42</td>\n",
       "      <td>1502.30</td>\n",
       "      <td>84626.63</td>\n",
       "    </tr>\n",
       "  </tbody>\n",
       "</table>\n",
       "</div>"
      ],
      "text/plain": [
       "   Ownership   Thermal  Nuclear     Hydro  RES*(MNRE)    G_Total\n",
       "19     State  71869.38      0.0  29858.00     2004.87  103732.25\n",
       "20   Private  86600.30      0.0   3394.00    67141.44  157135.74\n",
       "21   Central  64192.91   6780.0  12151.42     1502.30   84626.63"
      ]
     },
     "execution_count": 70,
     "metadata": {},
     "output_type": "execute_result"
    }
   ],
   "source": [
    "sector"
   ]
  },
  {
   "cell_type": "code",
   "execution_count": 71,
   "metadata": {},
   "outputs": [
    {
     "data": {
      "text/plain": [
       "(array([0, 1, 2]), <a list of 3 Text xticklabel objects>)"
      ]
     },
     "execution_count": 71,
     "metadata": {},
     "output_type": "execute_result"
    },
    {
     "data": {
      "image/png": "[encoded data removed]",
      "text/plain": [
       "<Figure size 864x576 with 1 Axes>"
      ]
     },
     "metadata": {},
     "output_type": "display_data"
    }
   ],
   "source": [
    "sns.barplot('Ownership','G_Total',data=sector)\n",
    "plt.xticks(rotation=360)"
   ]
  },
  {
   "cell_type": "code",
   "execution_count": 72,
   "metadata": {},
   "outputs": [
    {
     "data": {
      "text/plain": [
       "Thermal       222662.59\n",
       "Nuclear         6780.00\n",
       "Hydro          45403.42\n",
       "RES*(MNRE)     70648.61\n",
       "dtype: float64"
      ]
     },
     "execution_count": 72,
     "metadata": {},
     "output_type": "execute_result"
    }
   ],
   "source": [
    "dt[dt.Region=='ALL INDIA'][['Thermal','Nuclear','Hydro','RES*(MNRE)']].sum()"
   ]
  },
  {
   "cell_type": "code",
   "execution_count": 73,
   "metadata": {},
   "outputs": [
    {
     "data": {
      "image/png": "[encoded data removed]",
      "text/plain": [
       "<Figure size 864x576 with 1 Axes>"
      ]
     },
     "metadata": {},
     "output_type": "display_data"
    }
   ],
   "source": [
    "x=[222662.59,6780,45403.42,70648.61]\n",
    "plt.pie(x,labels=['Thermal','Nuclear','Hydro','Renewable Energy Sources'],\n",
    "       shadow=True,autopct='%1.2f%%')\n",
    "plt.title(\"All India Production\")\n",
    "plt.legend()\n",
    "plt.show()"
   ]
  },
  {
   "cell_type": "markdown",
   "metadata": {},
   "source": [
    "#### Total Electricity Produced in India is mainly generated by Thermal Energy i.e. 64.45% of Total Electricity."
   ]
  },
  {
   "cell_type": "markdown",
   "metadata": {},
   "source": [
    "## State-Wise Analysis(All India)"
   ]
  },
  {
   "cell_type": "code",
   "execution_count": 74,
   "metadata": {},
   "outputs": [
    {
     "data": {
      "text/html": [
       "<div>\n",
       "<style scoped>\n",
       "    .dataframe tbody tr th:only-of-type {\n",
       "        vertical-align: middle;\n",
       "    }\n",
       "\n",
       "    .dataframe tbody tr th {\n",
       "        vertical-align: top;\n",
       "    }\n",
       "\n",
       "    .dataframe thead th {\n",
       "        text-align: right;\n",
       "    }\n",
       "</style>\n",
       "<table border=\"1\" class=\"dataframe\">\n",
       "  <thead>\n",
       "    <tr style=\"text-align: right;\">\n",
       "      <th></th>\n",
       "      <th>State</th>\n",
       "      <th>Grand Total</th>\n",
       "    </tr>\n",
       "  </thead>\n",
       "  <tbody>\n",
       "    <tr>\n",
       "      <th>0</th>\n",
       "      <td>Andaman  &amp; Nicobar</td>\n",
       "      <td>51.86</td>\n",
       "    </tr>\n",
       "    <tr>\n",
       "      <th>1</th>\n",
       "      <td>Andhra Pradesh</td>\n",
       "      <td>23411.21</td>\n",
       "    </tr>\n",
       "    <tr>\n",
       "      <th>2</th>\n",
       "      <td>Arunachal Pradesh</td>\n",
       "      <td>301.02</td>\n",
       "    </tr>\n",
       "    <tr>\n",
       "      <th>3</th>\n",
       "      <td>Assam</td>\n",
       "      <td>1512.85</td>\n",
       "    </tr>\n",
       "    <tr>\n",
       "      <th>4</th>\n",
       "      <td>Bihar</td>\n",
       "      <td>4341.47</td>\n",
       "    </tr>\n",
       "    <tr>\n",
       "      <th>5</th>\n",
       "      <td>Chandigarh</td>\n",
       "      <td>193.24</td>\n",
       "    </tr>\n",
       "    <tr>\n",
       "      <th>6</th>\n",
       "      <td>Chhattisgarh</td>\n",
       "      <td>13526.79</td>\n",
       "    </tr>\n",
       "    <tr>\n",
       "      <th>7</th>\n",
       "      <td>DVC</td>\n",
       "      <td>7171.24</td>\n",
       "    </tr>\n",
       "    <tr>\n",
       "      <th>8</th>\n",
       "      <td>Dadra &amp; Nagar Naveli</td>\n",
       "      <td>255.24</td>\n",
       "    </tr>\n",
       "    <tr>\n",
       "      <th>9</th>\n",
       "      <td>Daman &amp; Diu</td>\n",
       "      <td>189.98</td>\n",
       "    </tr>\n",
       "    <tr>\n",
       "      <th>10</th>\n",
       "      <td>Delhi</td>\n",
       "      <td>7884.84</td>\n",
       "    </tr>\n",
       "    <tr>\n",
       "      <th>11</th>\n",
       "      <td>Goa</td>\n",
       "      <td>549.41</td>\n",
       "    </tr>\n",
       "    <tr>\n",
       "      <th>12</th>\n",
       "      <td>Gujarat</td>\n",
       "      <td>30874.07</td>\n",
       "    </tr>\n",
       "    <tr>\n",
       "      <th>13</th>\n",
       "      <td>Haryana</td>\n",
       "      <td>11242.02</td>\n",
       "    </tr>\n",
       "    <tr>\n",
       "      <th>14</th>\n",
       "      <td>Himachal Pradesh</td>\n",
       "      <td>4046.81</td>\n",
       "    </tr>\n",
       "    <tr>\n",
       "      <th>15</th>\n",
       "      <td>Jammu &amp; Kashmir</td>\n",
       "      <td>3389.21</td>\n",
       "    </tr>\n",
       "    <tr>\n",
       "      <th>16</th>\n",
       "      <td>Jharkhand</td>\n",
       "      <td>1770.57</td>\n",
       "    </tr>\n",
       "    <tr>\n",
       "      <th>17</th>\n",
       "      <td>Karnataka</td>\n",
       "      <td>27010.14</td>\n",
       "    </tr>\n",
       "    <tr>\n",
       "      <th>18</th>\n",
       "      <td>Kerala</td>\n",
       "      <td>5105.27</td>\n",
       "    </tr>\n",
       "    <tr>\n",
       "      <th>19</th>\n",
       "      <td>Madhya Pradesh</td>\n",
       "      <td>20338.33</td>\n",
       "    </tr>\n",
       "    <tr>\n",
       "      <th>20</th>\n",
       "      <td>Maharashtra</td>\n",
       "      <td>43254.60</td>\n",
       "    </tr>\n",
       "    <tr>\n",
       "      <th>21</th>\n",
       "      <td>Manipur</td>\n",
       "      <td>243.36</td>\n",
       "    </tr>\n",
       "    <tr>\n",
       "      <th>22</th>\n",
       "      <td>Meghalaya</td>\n",
       "      <td>567.64</td>\n",
       "    </tr>\n",
       "    <tr>\n",
       "      <th>23</th>\n",
       "      <td>Mizoram</td>\n",
       "      <td>196.96</td>\n",
       "    </tr>\n",
       "    <tr>\n",
       "      <th>24</th>\n",
       "      <td>NLC</td>\n",
       "      <td>100.00</td>\n",
       "    </tr>\n",
       "    <tr>\n",
       "      <th>25</th>\n",
       "      <td>Nagaland</td>\n",
       "      <td>160.60</td>\n",
       "    </tr>\n",
       "    <tr>\n",
       "      <th>26</th>\n",
       "      <td>Odisha</td>\n",
       "      <td>7369.10</td>\n",
       "    </tr>\n",
       "    <tr>\n",
       "      <th>27</th>\n",
       "      <td>Puducherry</td>\n",
       "      <td>368.61</td>\n",
       "    </tr>\n",
       "    <tr>\n",
       "      <th>28</th>\n",
       "      <td>Punjab</td>\n",
       "      <td>14264.97</td>\n",
       "    </tr>\n",
       "    <tr>\n",
       "      <th>29</th>\n",
       "      <td>Rajasthan</td>\n",
       "      <td>21054.48</td>\n",
       "    </tr>\n",
       "    <tr>\n",
       "      <th>30</th>\n",
       "      <td>Sikkim</td>\n",
       "      <td>962.15</td>\n",
       "    </tr>\n",
       "    <tr>\n",
       "      <th>31</th>\n",
       "      <td>Tamil Nadu</td>\n",
       "      <td>30254.54</td>\n",
       "    </tr>\n",
       "    <tr>\n",
       "      <th>32</th>\n",
       "      <td>Telangana</td>\n",
       "      <td>15197.01</td>\n",
       "    </tr>\n",
       "    <tr>\n",
       "      <th>33</th>\n",
       "      <td>Tripura</td>\n",
       "      <td>735.72</td>\n",
       "    </tr>\n",
       "    <tr>\n",
       "      <th>34</th>\n",
       "      <td>Uttar Pradesh</td>\n",
       "      <td>24909.33</td>\n",
       "    </tr>\n",
       "    <tr>\n",
       "      <th>35</th>\n",
       "      <td>Uttarakhand</td>\n",
       "      <td>3399.14</td>\n",
       "    </tr>\n",
       "    <tr>\n",
       "      <th>36</th>\n",
       "      <td>West Bengal</td>\n",
       "      <td>10518.24</td>\n",
       "    </tr>\n",
       "    <tr>\n",
       "      <th>37</th>\n",
       "      <td>lakshadweep</td>\n",
       "      <td>0.75</td>\n",
       "    </tr>\n",
       "  </tbody>\n",
       "</table>\n",
       "</div>"
      ],
      "text/plain": [
       "                   State  Grand Total\n",
       "0     Andaman  & Nicobar        51.86\n",
       "1         Andhra Pradesh     23411.21\n",
       "2      Arunachal Pradesh       301.02\n",
       "3                  Assam      1512.85\n",
       "4                  Bihar      4341.47\n",
       "5             Chandigarh       193.24\n",
       "6           Chhattisgarh     13526.79\n",
       "7                    DVC      7171.24\n",
       "8   Dadra & Nagar Naveli       255.24\n",
       "9            Daman & Diu       189.98\n",
       "10                 Delhi      7884.84\n",
       "11                   Goa       549.41\n",
       "12               Gujarat     30874.07\n",
       "13               Haryana     11242.02\n",
       "14      Himachal Pradesh      4046.81\n",
       "15       Jammu & Kashmir      3389.21\n",
       "16             Jharkhand      1770.57\n",
       "17             Karnataka     27010.14\n",
       "18                Kerala      5105.27\n",
       "19        Madhya Pradesh     20338.33\n",
       "20           Maharashtra     43254.60\n",
       "21               Manipur       243.36\n",
       "22             Meghalaya       567.64\n",
       "23               Mizoram       196.96\n",
       "24                   NLC       100.00\n",
       "25              Nagaland       160.60\n",
       "26                Odisha      7369.10\n",
       "27            Puducherry       368.61\n",
       "28                Punjab     14264.97\n",
       "29             Rajasthan     21054.48\n",
       "30                Sikkim       962.15\n",
       "31            Tamil Nadu     30254.54\n",
       "32             Telangana     15197.01\n",
       "33               Tripura       735.72\n",
       "34         Uttar Pradesh     24909.33\n",
       "35           Uttarakhand      3399.14\n",
       "36           West Bengal     10518.24\n",
       "37           lakshadweep         0.75"
      ]
     },
     "execution_count": 74,
     "metadata": {},
     "output_type": "execute_result"
    }
   ],
   "source": [
    "df.groupby('State').sum()['Grand Total'].reset_index()"
   ]
  },
  {
   "cell_type": "code",
   "execution_count": 75,
   "metadata": {},
   "outputs": [],
   "source": [
    "State_Pro=df.groupby('State').sum()['Grand Total'].reset_index()"
   ]
  },
  {
   "cell_type": "code",
   "execution_count": 76,
   "metadata": {},
   "outputs": [
    {
     "data": {
      "text/plain": [
       "(array([ 0,  1,  2,  3,  4,  5,  6,  7,  8,  9, 10, 11, 12, 13, 14, 15, 16,\n",
       "        17, 18, 19, 20, 21, 22, 23, 24, 25, 26, 27, 28, 29, 30, 31, 32, 33,\n",
       "        34, 35, 36, 37]), <a list of 38 Text xticklabel objects>)"
      ]
     },
     "execution_count": 76,
     "metadata": {},
     "output_type": "execute_result"
    },
    {
     "data": {
      "image/png": "[encoded data removed]",
      "text/plain": [
       "<Figure size 864x576 with 1 Axes>"
      ]
     },
     "metadata": {},
     "output_type": "display_data"
    }
   ],
   "source": [
    "\n",
    "sns.barplot('State','Grand Total',data=State_Pro)\n",
    "plt.xticks(rotation=90)"
   ]
  },
  {
   "cell_type": "markdown",
   "metadata": {},
   "source": [
    "#### Maharashtra stands at top in producing highest quantity of Electricity. "
   ]
  },
  {
   "cell_type": "markdown",
   "metadata": {},
   "source": [
    "## Target and Achievement of Electricity Production."
   ]
  },
  {
   "cell_type": "code",
   "execution_count": 77,
   "metadata": {},
   "outputs": [
    {
     "name": "stdout",
     "output_type": "stream",
     "text": [
      "<class 'pandas.core.frame.DataFrame'>\n",
      "RangeIndex: 10 entries, 0 to 9\n",
      "Data columns (total 8 columns):\n",
      "Schemes              10 non-null object\n",
      "Sector               10 non-null object\n",
      "Target 15-16         10 non-null float64\n",
      "Achievement 15-16    10 non-null float64\n",
      "Target 16-17         10 non-null float64\n",
      "Achievement 16-17    10 non-null float64\n",
      "Target 17-18         10 non-null int64\n",
      "Achievement 17-18    10 non-null int64\n",
      "dtypes: float64(4), int64(2), object(2)\n",
      "memory usage: 720.0+ bytes\n"
     ]
    }
   ],
   "source": [
    "dd.info()"
   ]
  },
  {
   "cell_type": "code",
   "execution_count": 78,
   "metadata": {},
   "outputs": [
    {
     "data": {
      "text/plain": [
       "Index(['Schemes', 'Sector', 'Target 15-16', 'Achievement 15-16',\n",
       "       'Target 16-17', 'Achievement 16-17', 'Target 17-18',\n",
       "       'Achievement 17-18'],\n",
       "      dtype='object')"
      ]
     },
     "execution_count": 78,
     "metadata": {},
     "output_type": "execute_result"
    }
   ],
   "source": [
    "dd.columns"
   ]
  },
  {
   "cell_type": "code",
   "execution_count": 79,
   "metadata": {},
   "outputs": [],
   "source": [
    "dd.columns=['Schemes', 'Sector', 'Target16', 'Ach16',\n",
    "       'Target17', 'Ach17', 'Target18',\n",
    "       'Ach18']"
   ]
  },
  {
   "cell_type": "code",
   "execution_count": 80,
   "metadata": {},
   "outputs": [
    {
     "data": {
      "text/plain": [
       "Index(['Schemes', 'Sector', 'Target16', 'Ach16', 'Target17', 'Ach17',\n",
       "       'Target18', 'Ach18'],\n",
       "      dtype='object')"
      ]
     },
     "execution_count": 80,
     "metadata": {},
     "output_type": "execute_result"
    }
   ],
   "source": [
    "dd.columns"
   ]
  },
  {
   "cell_type": "code",
   "execution_count": 81,
   "metadata": {},
   "outputs": [
    {
     "data": {
      "text/html": [
       "<div>\n",
       "<style scoped>\n",
       "    .dataframe tbody tr th:only-of-type {\n",
       "        vertical-align: middle;\n",
       "    }\n",
       "\n",
       "    .dataframe tbody tr th {\n",
       "        vertical-align: top;\n",
       "    }\n",
       "\n",
       "    .dataframe thead th {\n",
       "        text-align: right;\n",
       "    }\n",
       "</style>\n",
       "<table border=\"1\" class=\"dataframe\">\n",
       "  <thead>\n",
       "    <tr style=\"text-align: right;\">\n",
       "      <th></th>\n",
       "      <th>Schemes</th>\n",
       "      <th>Sector</th>\n",
       "      <th>Target16</th>\n",
       "      <th>Ach16</th>\n",
       "      <th>Target17</th>\n",
       "      <th>Ach17</th>\n",
       "      <th>Target18</th>\n",
       "      <th>Ach18</th>\n",
       "    </tr>\n",
       "  </thead>\n",
       "  <tbody>\n",
       "    <tr>\n",
       "      <th>0</th>\n",
       "      <td>Thermal</td>\n",
       "      <td>Central</td>\n",
       "      <td>2818.3</td>\n",
       "      <td>2659.20</td>\n",
       "      <td>2705.0</td>\n",
       "      <td>825.5</td>\n",
       "      <td>4880</td>\n",
       "      <td>2260</td>\n",
       "    </tr>\n",
       "    <tr>\n",
       "      <th>1</th>\n",
       "      <td>Thermal</td>\n",
       "      <td>State</td>\n",
       "      <td>6770.0</td>\n",
       "      <td>4886.10</td>\n",
       "      <td>850.0</td>\n",
       "      <td>2752.0</td>\n",
       "      <td>3546</td>\n",
       "      <td>850</td>\n",
       "    </tr>\n",
       "    <tr>\n",
       "      <th>2</th>\n",
       "      <td>Thermal</td>\n",
       "      <td>Private</td>\n",
       "      <td>5400.0</td>\n",
       "      <td>13285.00</td>\n",
       "      <td>2790.0</td>\n",
       "      <td>3768.0</td>\n",
       "      <td>2940</td>\n",
       "      <td>300</td>\n",
       "    </tr>\n",
       "    <tr>\n",
       "      <th>3</th>\n",
       "      <td>Hydro</td>\n",
       "      <td>Central</td>\n",
       "      <td>336.0</td>\n",
       "      <td>736.01</td>\n",
       "      <td>150.0</td>\n",
       "      <td>80.0</td>\n",
       "      <td>800</td>\n",
       "      <td>330</td>\n",
       "    </tr>\n",
       "    <tr>\n",
       "      <th>4</th>\n",
       "      <td>Hydro</td>\n",
       "      <td>State</td>\n",
       "      <td>210.0</td>\n",
       "      <td>0.00</td>\n",
       "      <td>650.0</td>\n",
       "      <td>1290.0</td>\n",
       "      <td>300</td>\n",
       "      <td>0</td>\n",
       "    </tr>\n",
       "    <tr>\n",
       "      <th>5</th>\n",
       "      <td>Hydro</td>\n",
       "      <td>Private</td>\n",
       "      <td>296.0</td>\n",
       "      <td>0.00</td>\n",
       "      <td>120.5</td>\n",
       "      <td>0.0</td>\n",
       "      <td>205</td>\n",
       "      <td>0</td>\n",
       "    </tr>\n",
       "    <tr>\n",
       "      <th>6</th>\n",
       "      <td>Nuclear</td>\n",
       "      <td>Central</td>\n",
       "      <td>2000.0</td>\n",
       "      <td>1000.00</td>\n",
       "      <td>0.0</td>\n",
       "      <td>0.0</td>\n",
       "      <td>500</td>\n",
       "      <td>0</td>\n",
       "    </tr>\n",
       "    <tr>\n",
       "      <th>7</th>\n",
       "      <td>All India</td>\n",
       "      <td>Central</td>\n",
       "      <td>5154.3</td>\n",
       "      <td>4395.21</td>\n",
       "      <td>2855.0</td>\n",
       "      <td>905.5</td>\n",
       "      <td>6180</td>\n",
       "      <td>2590</td>\n",
       "    </tr>\n",
       "    <tr>\n",
       "      <th>8</th>\n",
       "      <td>All India</td>\n",
       "      <td>State</td>\n",
       "      <td>6980.0</td>\n",
       "      <td>4886.10</td>\n",
       "      <td>1500.0</td>\n",
       "      <td>4042.0</td>\n",
       "      <td>3846</td>\n",
       "      <td>850</td>\n",
       "    </tr>\n",
       "    <tr>\n",
       "      <th>9</th>\n",
       "      <td>All India</td>\n",
       "      <td>Private</td>\n",
       "      <td>5696.0</td>\n",
       "      <td>13285.00</td>\n",
       "      <td>2910.5</td>\n",
       "      <td>3768.0</td>\n",
       "      <td>3145</td>\n",
       "      <td>300</td>\n",
       "    </tr>\n",
       "  </tbody>\n",
       "</table>\n",
       "</div>"
      ],
      "text/plain": [
       "     Schemes   Sector  Target16     Ach16  Target17   Ach17  Target18  Ach18\n",
       "0    Thermal  Central    2818.3   2659.20    2705.0   825.5      4880   2260\n",
       "1    Thermal    State    6770.0   4886.10     850.0  2752.0      3546    850\n",
       "2    Thermal  Private    5400.0  13285.00    2790.0  3768.0      2940    300\n",
       "3      Hydro  Central     336.0    736.01     150.0    80.0       800    330\n",
       "4      Hydro    State     210.0      0.00     650.0  1290.0       300      0\n",
       "5      Hydro  Private     296.0      0.00     120.5     0.0       205      0\n",
       "6    Nuclear  Central    2000.0   1000.00       0.0     0.0       500      0\n",
       "7  All India  Central    5154.3   4395.21    2855.0   905.5      6180   2590\n",
       "8  All India    State    6980.0   4886.10    1500.0  4042.0      3846    850\n",
       "9  All India  Private    5696.0  13285.00    2910.5  3768.0      3145    300"
      ]
     },
     "execution_count": 81,
     "metadata": {},
     "output_type": "execute_result"
    }
   ],
   "source": [
    "dd.head(20)"
   ]
  },
  {
   "cell_type": "markdown",
   "metadata": {},
   "source": [
    "### Target and Achivement in 2016-17"
   ]
  },
  {
   "cell_type": "code",
   "execution_count": 82,
   "metadata": {},
   "outputs": [
    {
     "data": {
      "text/html": [
       "<div>\n",
       "<style scoped>\n",
       "    .dataframe tbody tr th:only-of-type {\n",
       "        vertical-align: middle;\n",
       "    }\n",
       "\n",
       "    .dataframe tbody tr th {\n",
       "        vertical-align: top;\n",
       "    }\n",
       "\n",
       "    .dataframe thead th {\n",
       "        text-align: right;\n",
       "    }\n",
       "</style>\n",
       "<table border=\"1\" class=\"dataframe\">\n",
       "  <thead>\n",
       "    <tr style=\"text-align: right;\">\n",
       "      <th></th>\n",
       "      <th>Sector</th>\n",
       "      <th>Target16</th>\n",
       "      <th>Ach16</th>\n",
       "    </tr>\n",
       "  </thead>\n",
       "  <tbody>\n",
       "    <tr>\n",
       "      <th>7</th>\n",
       "      <td>Central</td>\n",
       "      <td>5154.3</td>\n",
       "      <td>4395.21</td>\n",
       "    </tr>\n",
       "    <tr>\n",
       "      <th>8</th>\n",
       "      <td>State</td>\n",
       "      <td>6980.0</td>\n",
       "      <td>4886.10</td>\n",
       "    </tr>\n",
       "    <tr>\n",
       "      <th>9</th>\n",
       "      <td>Private</td>\n",
       "      <td>5696.0</td>\n",
       "      <td>13285.00</td>\n",
       "    </tr>\n",
       "  </tbody>\n",
       "</table>\n",
       "</div>"
      ],
      "text/plain": [
       "    Sector  Target16     Ach16\n",
       "7  Central    5154.3   4395.21\n",
       "8    State    6980.0   4886.10\n",
       "9  Private    5696.0  13285.00"
      ]
     },
     "execution_count": 82,
     "metadata": {},
     "output_type": "execute_result"
    }
   ],
   "source": [
    "dd[dd.Schemes=='All India'][['Sector','Target16','Ach16']]"
   ]
  },
  {
   "cell_type": "code",
   "execution_count": 83,
   "metadata": {},
   "outputs": [
    {
     "data": {
      "text/plain": [
       "Sector      CentralStatePrivate\n",
       "Target16                17830.3\n",
       "Ach16                   22566.3\n",
       "dtype: object"
      ]
     },
     "execution_count": 83,
     "metadata": {},
     "output_type": "execute_result"
    }
   ],
   "source": [
    "dd[dd.Schemes=='All India'][['Sector','Target16','Ach16']].sum()"
   ]
  },
  {
   "cell_type": "code",
   "execution_count": 84,
   "metadata": {},
   "outputs": [
    {
     "data": {
      "text/plain": [
       "(array([0, 1, 2]), <a list of 3 Text xticklabel objects>)"
      ]
     },
     "execution_count": 84,
     "metadata": {},
     "output_type": "execute_result"
    },
    {
     "data": {
      "image/png": "[encoded data removed]",
      "text/plain": [
       "<Figure size 864x576 with 1 Axes>"
      ]
     },
     "metadata": {},
     "output_type": "display_data"
    }
   ],
   "source": [
    "dd[dd.Schemes=='All India'][['Sector','Target16','Ach16']].groupby('Sector').mean().plot(kind='bar')\n",
    "plt.xticks(rotation=360)"
   ]
  },
  {
   "cell_type": "markdown",
   "metadata": {},
   "source": [
    "#### In year 2016-17 there is Over-Achievement, wrt Targeted Production. Private Power Plants achieves maximum."
   ]
  },
  {
   "cell_type": "markdown",
   "metadata": {},
   "source": [
    "### Target and Achievement in 2017-18"
   ]
  },
  {
   "cell_type": "code",
   "execution_count": 85,
   "metadata": {},
   "outputs": [
    {
     "data": {
      "text/html": [
       "<div>\n",
       "<style scoped>\n",
       "    .dataframe tbody tr th:only-of-type {\n",
       "        vertical-align: middle;\n",
       "    }\n",
       "\n",
       "    .dataframe tbody tr th {\n",
       "        vertical-align: top;\n",
       "    }\n",
       "\n",
       "    .dataframe thead th {\n",
       "        text-align: right;\n",
       "    }\n",
       "</style>\n",
       "<table border=\"1\" class=\"dataframe\">\n",
       "  <thead>\n",
       "    <tr style=\"text-align: right;\">\n",
       "      <th></th>\n",
       "      <th>Sector</th>\n",
       "      <th>Target17</th>\n",
       "      <th>Ach17</th>\n",
       "    </tr>\n",
       "  </thead>\n",
       "  <tbody>\n",
       "    <tr>\n",
       "      <th>7</th>\n",
       "      <td>Central</td>\n",
       "      <td>2855.0</td>\n",
       "      <td>905.5</td>\n",
       "    </tr>\n",
       "    <tr>\n",
       "      <th>8</th>\n",
       "      <td>State</td>\n",
       "      <td>1500.0</td>\n",
       "      <td>4042.0</td>\n",
       "    </tr>\n",
       "    <tr>\n",
       "      <th>9</th>\n",
       "      <td>Private</td>\n",
       "      <td>2910.5</td>\n",
       "      <td>3768.0</td>\n",
       "    </tr>\n",
       "  </tbody>\n",
       "</table>\n",
       "</div>"
      ],
      "text/plain": [
       "    Sector  Target17   Ach17\n",
       "7  Central    2855.0   905.5\n",
       "8    State    1500.0  4042.0\n",
       "9  Private    2910.5  3768.0"
      ]
     },
     "execution_count": 85,
     "metadata": {},
     "output_type": "execute_result"
    }
   ],
   "source": [
    "dd[dd.Schemes=='All India'][['Sector','Target17','Ach17']]"
   ]
  },
  {
   "cell_type": "code",
   "execution_count": 86,
   "metadata": {},
   "outputs": [
    {
     "data": {
      "text/plain": [
       "Sector      CentralStatePrivate\n",
       "Target17                 7265.5\n",
       "Ach17                    8715.5\n",
       "dtype: object"
      ]
     },
     "execution_count": 86,
     "metadata": {},
     "output_type": "execute_result"
    }
   ],
   "source": [
    "dd[dd.Schemes=='All India'][['Sector','Target17','Ach17']].sum()"
   ]
  },
  {
   "cell_type": "code",
   "execution_count": 87,
   "metadata": {},
   "outputs": [
    {
     "data": {
      "text/plain": [
       "(array([0, 1, 2]), <a list of 3 Text xticklabel objects>)"
      ]
     },
     "execution_count": 87,
     "metadata": {},
     "output_type": "execute_result"
    },
    {
     "data": {
      "image/png": "[encoded data removed]",
      "text/plain": [
       "<Figure size 864x576 with 1 Axes>"
      ]
     },
     "metadata": {},
     "output_type": "display_data"
    }
   ],
   "source": [
    "dd[dd.Schemes=='All India'][['Sector','Target17','Ach17']].groupby('Sector').mean().plot(kind='bar')\n",
    "plt.xticks(rotation=360)"
   ]
  },
  {
   "cell_type": "markdown",
   "metadata": {},
   "source": [
    "#### In year 2017-18 there is Over-Achievement, wrt Targeted Production.State Government's Power Plant achieves maximum. "
   ]
  },
  {
   "cell_type": "markdown",
   "metadata": {},
   "source": [
    "### Target and Achievement in 2018-19(Till August 2018)"
   ]
  },
  {
   "cell_type": "code",
   "execution_count": 88,
   "metadata": {},
   "outputs": [
    {
     "data": {
      "text/html": [
       "<div>\n",
       "<style scoped>\n",
       "    .dataframe tbody tr th:only-of-type {\n",
       "        vertical-align: middle;\n",
       "    }\n",
       "\n",
       "    .dataframe tbody tr th {\n",
       "        vertical-align: top;\n",
       "    }\n",
       "\n",
       "    .dataframe thead th {\n",
       "        text-align: right;\n",
       "    }\n",
       "</style>\n",
       "<table border=\"1\" class=\"dataframe\">\n",
       "  <thead>\n",
       "    <tr style=\"text-align: right;\">\n",
       "      <th></th>\n",
       "      <th>Sector</th>\n",
       "      <th>Target18</th>\n",
       "      <th>Ach18</th>\n",
       "    </tr>\n",
       "  </thead>\n",
       "  <tbody>\n",
       "    <tr>\n",
       "      <th>7</th>\n",
       "      <td>Central</td>\n",
       "      <td>6180</td>\n",
       "      <td>2590</td>\n",
       "    </tr>\n",
       "    <tr>\n",
       "      <th>8</th>\n",
       "      <td>State</td>\n",
       "      <td>3846</td>\n",
       "      <td>850</td>\n",
       "    </tr>\n",
       "    <tr>\n",
       "      <th>9</th>\n",
       "      <td>Private</td>\n",
       "      <td>3145</td>\n",
       "      <td>300</td>\n",
       "    </tr>\n",
       "  </tbody>\n",
       "</table>\n",
       "</div>"
      ],
      "text/plain": [
       "    Sector  Target18  Ach18\n",
       "7  Central      6180   2590\n",
       "8    State      3846    850\n",
       "9  Private      3145    300"
      ]
     },
     "execution_count": 88,
     "metadata": {},
     "output_type": "execute_result"
    }
   ],
   "source": [
    "dd[dd.Schemes=='All India'][['Sector','Target18','Ach18']]"
   ]
  },
  {
   "cell_type": "code",
   "execution_count": 89,
   "metadata": {},
   "outputs": [
    {
     "data": {
      "text/plain": [
       "Sector      CentralStatePrivate\n",
       "Target18                  13171\n",
       "Ach18                      3740\n",
       "dtype: object"
      ]
     },
     "execution_count": 89,
     "metadata": {},
     "output_type": "execute_result"
    }
   ],
   "source": [
    "dd[dd.Schemes=='All India'][['Sector','Target18','Ach18']].sum()"
   ]
  },
  {
   "cell_type": "code",
   "execution_count": 90,
   "metadata": {},
   "outputs": [
    {
     "data": {
      "text/plain": [
       "(array([0, 1, 2]), <a list of 3 Text xticklabel objects>)"
      ]
     },
     "execution_count": 90,
     "metadata": {},
     "output_type": "execute_result"
    },
    {
     "data": {
      "image/png": "[encoded data removed]",
      "text/plain": [
       "<Figure size 864x576 with 1 Axes>"
      ]
     },
     "metadata": {},
     "output_type": "display_data"
    }
   ],
   "source": [
    "dd[dd.Schemes=='All India'][['Sector','Target18','Ach18']].groupby('Sector').mean().plot(kind='bar')\n",
    "plt.xticks(rotation=360)"
   ]
  },
  {
   "cell_type": "markdown",
   "metadata": {},
   "source": [
    "#### Showing till August 2018."
   ]
  },
  {
   "cell_type": "markdown",
   "metadata": {},
   "source": [
    "#### Due to insufficiency of data it is unable to forecast but as we are over achieving the targets of last two years and Government of India is promoting solar power projects at very high level,we can say that we can achieve our target of producing 225 GW(Giga-Watt) of electricity till 2022."
   ]
  },
  {
   "cell_type": "code",
   "execution_count": null,
   "metadata": {},
   "outputs": [],
   "source": []
  }
 ],
 "metadata": {
  "kernelspec": {
   "display_name": "Python 3",
   "language": "python",
   "name": "python3"
  },
  "language_info": {
   "codemirror_mode": {
    "name": "ipython",
    "version": 3
   },
   "file_extension": ".py",
   "mimetype": "text/x-python",
   "name": "python",
   "nbconvert_exporter": "python",
   "pygments_lexer": "ipython3",
   "version": "3.6.5"
  }
 },
 "nbformat": 4,
 "nbformat_minor": 2
}
